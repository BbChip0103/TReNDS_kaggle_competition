{
  "nbformat": 4,
  "nbformat_minor": 0,
  "metadata": {
    "kernelspec": {
      "display_name": "Python 3",
      "language": "python",
      "name": "python3"
    },
    "language_info": {
      "codemirror_mode": {
        "name": "ipython",
        "version": 3
      },
      "file_extension": ".py",
      "mimetype": "text/x-python",
      "name": "python",
      "nbconvert_exporter": "python",
      "pygments_lexer": "ipython3",
      "version": "3.7.6"
    },
    "colab": {
      "name": "3D_CNN_regression_average_GICA_xception-custom-2_5fold_in-memory.ipynb",
      "provenance": []
    }
  },
  "cells": [
    {
      "cell_type": "code",
      "metadata": {
        "id": "qLhCgqOJbQqf"
      },
      "source": [
        "REPEAT_START = 1\n",
        "REPEAT_END = 1"
      ],
      "execution_count": null,
      "outputs": []
    },
    {
      "cell_type": "code",
      "metadata": {
        "id": "2kqgfuQFbQql"
      },
      "source": [
        "import sys\n",
        "sys.path.append('..')"
      ],
      "execution_count": null,
      "outputs": []
    },
    {
      "cell_type": "code",
      "metadata": {
        "id": "yiQfVKjfbQqm"
      },
      "source": [
        "import os\n",
        "import os.path as pth\n",
        "from itertools import product, combinations\n",
        "\n",
        "import numpy as np\n",
        "from numba import jit, njit\n",
        "import matplotlib.pyplot as plt\n",
        "import scipy.io as sio\n",
        "from scipy.stats import pearsonr\n",
        "import nilearn as nl\n",
        "import nibabel as nib\n",
        "import h5py\n",
        "import pandas as pd\n",
        "from multiprocessing import Pool\n",
        "from tqdm.notebook import tqdm\n",
        "\n",
        "from sklearn.model_selection import train_test_split, KFold, RepeatedKFold, \\\n",
        "                                    GroupKFold, RepeatedStratifiedKFold\n",
        "from sklearn.utils import class_weight\n",
        "\n",
        "import json\n",
        "import shutil\n",
        "\n",
        "import gc\n",
        "\n",
        "from numba import jit"
      ],
      "execution_count": null,
      "outputs": []
    },
    {
      "cell_type": "code",
      "metadata": {
        "id": "MRajcR9BbQqo"
      },
      "source": [
        ""
      ],
      "execution_count": null,
      "outputs": []
    },
    {
      "cell_type": "code",
      "metadata": {
        "id": "qP2oVtsCbQqp"
      },
      "source": [
        "from IPython.display import clear_output"
      ],
      "execution_count": null,
      "outputs": []
    },
    {
      "cell_type": "code",
      "metadata": {
        "id": "XeK1DFrdbQqq"
      },
      "source": [
        "plt.rcParams.update({'font.size': 16})"
      ],
      "execution_count": null,
      "outputs": []
    },
    {
      "cell_type": "markdown",
      "metadata": {
        "id": "hJEXphoUdH83"
      },
      "source": [
        "### Setting"
      ]
    },
    {
      "cell_type": "code",
      "metadata": {
        "id": "mr4X1OhvbQqr"
      },
      "source": [
        "config = {\n",
        "    'gpu_num': 4,\n",
        "    \n",
        "    'missing_value': 'exclude', ### 'exclude', 'mean', 'median'\n",
        "    \n",
        "    'is_zscore':True,\n",
        "    \n",
        "    'output_label_list': None,\n",
        "    'output_activation': 'linear',\n",
        "    \n",
        "    'conv':{\n",
        "        'conv_num': (3,3,3,3),\n",
        "        'base_channel_num': 32,\n",
        "        'kernel_size':(3, 3, 3),\n",
        "        'padding':'same',\n",
        "        'stride':1\n",
        "    },\n",
        "    'pool':{\n",
        "        'type':'NP',\n",
        "        'size':(2, 2, 2),\n",
        "        'stride':2,\n",
        "        'padding':'same'\n",
        "    },\n",
        "    'fc':{\n",
        "        'fc_num': 128,\n",
        "     },\n",
        "    \n",
        "    'activation':'relu',\n",
        "    \n",
        "    'is_batchnorm': True,\n",
        "    'is_dropout': True,\n",
        "    'dropout_rate': 0.50,\n",
        "    \n",
        "    'batch_size': 32,\n",
        "\n",
        "    'loss': 'mse',\n",
        "    'loss_weights': {\n",
        "        'age':0.30,\n",
        "        'domain1_var1':0.175, \n",
        "        'domain1_var2':0.175,\n",
        "        'domain2_var1':0.175,\n",
        "        'domain2_var2':0.175,\n",
        "    },\n",
        "    \n",
        "    'num_epoch':1000,\n",
        "    'learning_rate': 1e-4,\n",
        "    \n",
        "    'num_fold': 5,\n",
        "    'num_repeat': 30,\n",
        "    \n",
        "    'random_state': 7777\n",
        "}"
      ],
      "execution_count": null,
      "outputs": []
    },
    {
      "cell_type": "code",
      "metadata": {
        "id": "fwLOPc2pbQqs"
      },
      "source": [
        "BASE_MODEL_NAME = '3D_CNN_regression_average_GICA_xception-custom-2'"
      ],
      "execution_count": null,
      "outputs": []
    },
    {
      "cell_type": "code",
      "metadata": {
        "id": "ls8hpz0QbQqv"
      },
      "source": [
        ""
      ],
      "execution_count": null,
      "outputs": []
    },
    {
      "cell_type": "code",
      "metadata": {
        "id": "Xf0Hj2t8bQqw"
      },
      "source": [
        "loss_list = ['weighted_mse']\n",
        "\n",
        "conv_comb_list = [(None,)]\n",
        "\n",
        "fc_list = [0]\n",
        "\n",
        "base_channel_list = [4, 8]\n",
        "\n",
        "pool_type_list = [None, 'avg']\n",
        "\n",
        "### 'same', 'valid'\n",
        "conv_padding_list = ['same']\n",
        "pool_padding_list = ['same']\n",
        "\n",
        "activation_list = ['relu']\n",
        "\n",
        "is_batchnorm_list = [True, False]\n",
        "\n",
        "batch_size_list = [32]"
      ],
      "execution_count": null,
      "outputs": []
    },
    {
      "cell_type": "code",
      "metadata": {
        "id": "cOzy6ZJJbQq3"
      },
      "source": [
        ""
      ],
      "execution_count": null,
      "outputs": []
    },
    {
      "cell_type": "code",
      "metadata": {
        "id": "jY8lt2NobQq4"
      },
      "source": [
        "os.environ['CUDA_VISIBLE_DEVICES'] = str(config['gpu_num'])\n",
        "os.environ['HDF5_USE_FILE_LOCKING'] = 'FALSE'"
      ],
      "execution_count": null,
      "outputs": []
    },
    {
      "cell_type": "code",
      "metadata": {
        "id": "a7Uj6fjabQq4"
      },
      "source": [
        "import tensorflow as tf\n",
        "import tensorflow.keras as keras\n",
        "\n",
        "from tensorflow.keras.utils import to_categorical, Sequence\n",
        "from tensorflow.keras.layers import Input, Dense, Activation, BatchNormalization, \\\n",
        "                                    Flatten, Conv3D, AveragePooling3D, MaxPooling3D, Dropout, \\\n",
        "                                    Concatenate, GlobalMaxPool1D, GlobalAvgPool1D\n",
        "from tensorflow.keras.models import Sequential, Model, load_model\n",
        "from tensorflow.keras.optimizers import SGD, Adam\n",
        "from tensorflow.keras.callbacks import ModelCheckpoint,LearningRateScheduler, \\\n",
        "                                        EarlyStopping, BaseLogger, History\n",
        "from tensorflow.keras.losses import mean_squared_error, mean_absolute_error\n",
        "from tensorflow.keras import backend as K\n",
        "from tensorflow.keras.constraints import max_norm"
      ],
      "execution_count": null,
      "outputs": []
    },
    {
      "cell_type": "code",
      "metadata": {
        "id": "uXzgUEepbQq5"
      },
      "source": [
        "gpus = tf.config.experimental.list_physical_devices('GPU')\n",
        "tf.config.experimental.set_memory_growth(gpus[0], True)"
      ],
      "execution_count": null,
      "outputs": []
    },
    {
      "cell_type": "code",
      "metadata": {
        "id": "DQNV6BvsbQq5"
      },
      "source": [
        "from collections import Counter"
      ],
      "execution_count": null,
      "outputs": []
    },
    {
      "cell_type": "code",
      "metadata": {
        "id": "hdIlsnfMbQq5"
      },
      "source": [
        ""
      ],
      "execution_count": null,
      "outputs": []
    },
    {
      "cell_type": "markdown",
      "metadata": {
        "id": "cPD5nqwgdO7X"
      },
      "source": [
        "### Data"
      ]
    },
    {
      "cell_type": "code",
      "metadata": {
        "id": "0ujJW8-abQq6",
        "outputId": "86dcd1b8-24a8-4368-ee4d-702acfcd9157"
      },
      "source": [
        "BASE_PATH = pth.join('/users/lww/data/trend_competition')\n",
        "os.listdir(BASE_PATH)"
      ],
      "execution_count": null,
      "outputs": [
        {
          "output_type": "execute_result",
          "data": {
            "text/plain": [
              "['fMRI_mask.nii',\n",
              " 'fMRI_test',\n",
              " 'fMRI_train',\n",
              " 'fnc.csv',\n",
              " 'ICN_numbers.csv',\n",
              " 'loading.csv',\n",
              " 'reveal_ID_site2.csv',\n",
              " 'sample_submission.csv',\n",
              " 'train_scores.csv',\n",
              " 'model',\n",
              " 'ttest',\n",
              " 'two_sample_ttest',\n",
              " 'average_GICA',\n",
              " 'transposed_GICA']"
            ]
          },
          "metadata": {
            "tags": []
          },
          "execution_count": 21
        }
      ]
    },
    {
      "cell_type": "code",
      "metadata": {
        "scrolled": true,
        "id": "jWmhMN-NbQq6"
      },
      "source": [
        "# image and mask directories\n",
        "train_data_dir = pth.join(BASE_PATH, 'average_GICA', 'fMRI_train')\n",
        "test_data_dir = pth.join(BASE_PATH, 'average_GICA', 'fMRI_test')\n",
        "\n",
        "train_data = pd.read_csv(pth.join(BASE_PATH, 'train_scores.csv'))\n",
        "# loading_data = pd.read_csv(f'{BASE_PATH}/loading.csv')\n",
        "# fnc_data = pd.read_csv(f'{BASE_PATH}/fnc.csv')"
      ],
      "execution_count": null,
      "outputs": []
    },
    {
      "cell_type": "code",
      "metadata": {
        "id": "WSysGlpubQq6",
        "outputId": "4ada03ee-7bae-4626-a930-45653edfc8fb"
      },
      "source": [
        "if config['missing_value'] == 'exclude':\n",
        "    train_data = train_data[train_data.isnull().sum(axis=1)==0] ## exclude missing rows\n",
        "elif config['missing_value'] == 'mean':\n",
        "    pass\n",
        "elif config['missing_value'] == 'median':\n",
        "    pass\n",
        "len(train_data)"
      ],
      "execution_count": null,
      "outputs": [
        {
          "output_type": "execute_result",
          "data": {
            "text/plain": [
              "5434"
            ]
          },
          "metadata": {
            "tags": []
          },
          "execution_count": 23
        }
      ]
    },
    {
      "cell_type": "code",
      "metadata": {
        "id": "-NXGAWgrbQq7"
      },
      "source": [
        "mask_filename = pth.join(BASE_PATH, 'fMRI_mask.nii')\n",
        "mask_niimg = nib.load(mask_filename)\n",
        "affine_array = mask_niimg.affine"
      ],
      "execution_count": null,
      "outputs": []
    },
    {
      "cell_type": "code",
      "metadata": {
        "id": "M_--qbR4bQq8"
      },
      "source": [
        "class DataGenerator(keras.utils.Sequence):\n",
        "    def __init__(self, all_x, data_index, config, all_y=None, shuffle=True):\n",
        "        self.all_x = all_x\n",
        "        self.all_y = all_y\n",
        "        self.data_index = data_index.copy()\n",
        "        self.config = config\n",
        "        self.batch_size = self.config['batch_size']\n",
        "        self.shuffle = shuffle\n",
        "        np.random.seed(config['random_state'])\n",
        "\n",
        "        self.on_epoch_end()\n",
        "\n",
        "    def __len__(self):\n",
        "        return int(np.ceil(len(self.data_index)/self.batch_size))\n",
        "\n",
        "    def __getitem__(self, generator_index):\n",
        "        # Generate indexes of the batch\n",
        "        indexes = self.data_index[generator_index*self.batch_size:(generator_index+1)*self.batch_size]\n",
        "\n",
        "        # Generate data\n",
        "        X = self.all_x[indexes]\n",
        "        \n",
        "        if self.all_y is not None:\n",
        "            y = {\n",
        "                'output_{}'.format(label): each_y\n",
        "                    for label, each_y in zip(self.config['output_label_list'], \n",
        "                                             self.all_y[indexes].T)\n",
        "            }\n",
        "            return X, y\n",
        "        else:\n",
        "            return X\n",
        "        \n",
        "    def sample_generator(self, num_samples):\n",
        "        # Generate indexes of the batch\n",
        "        for i_sample in range(num_samples):\n",
        "            target_index = self.data_index[i_sample]\n",
        "\n",
        "            # Generate data\n",
        "            X_sample = self.all_x[target_index]\n",
        "\n",
        "            if self.config['is_zscore']:\n",
        "                for i in range(X_sample.shape[-1]):\n",
        "                    X_sample[...,i] = self.zscore(X_sample[...,i])\n",
        "            \n",
        "            if self.all_y is not None:\n",
        "                y_sample = {\n",
        "                    'output_{}'.format(label): each_y\n",
        "                        for label, each_y in zip(self.config['output_label_list'], \n",
        "                                                 self.all_y[target_index].T)\n",
        "                }\n",
        "                yield X_sample, y_sample\n",
        "            else:\n",
        "                yield X_sample\n",
        "\n",
        "    def data_generator_for_tfdata(self, num_samples=32):\n",
        "        y_type = {\n",
        "            'output_{}'.format(label): tf.float32\n",
        "                for label in self.config['output_label_list']\n",
        "        }\n",
        "\n",
        "        y_shape = {\n",
        "            'output_{}'.format(label): ()\n",
        "                for label in self.config['output_label_list']\n",
        "        }\n",
        "        \n",
        "        if self.all_y is not None:\n",
        "            return tf.data.Dataset.from_generator(\n",
        "                    self.sample_generator, args=[num_samples], \n",
        "                    output_types=(tf.float32, y_type), \n",
        "                    output_shapes=([*self.config['input_shape']], \n",
        "                                   y_shape)\n",
        "                    ).prefetch(tf.data.experimental.AUTOTUNE).batch(config['batch_size'])\n",
        "        else:\n",
        "            return tf.data.Dataset.from_generator(\n",
        "                    self.sample_generator, args=[num_samples], \n",
        "                    output_types=(tf.float32), \n",
        "                    output_shapes=([*self.config['input_shape']])\n",
        "                    ).prefetch(tf.data.experimental.AUTOTUNE).batch(config['batch_size'])\n",
        "\n",
        "    def batch_generator(self):\n",
        "        for i in range(self.__len__()):\n",
        "            yield self.__getitem__(i)\n",
        "        self.on_epoch_end()\n",
        "    \n",
        "    def batch_generator_for_tfdata(self):\n",
        "        y_type = {\n",
        "            'output_{}'.format(label): tf.float32\n",
        "                for label in self.config['output_label_list']\n",
        "        }\n",
        "\n",
        "        y_shape = {\n",
        "            'output_{}'.format(label): [None,]\n",
        "                for label in self.config['output_label_list']\n",
        "        }\n",
        "        \n",
        "        if self.all_y is not None:\n",
        "            return tf.data.Dataset.from_generator(\n",
        "                        self.batch_generator, args=[], \n",
        "                        output_types=(tf.float32, y_type), \n",
        "                        output_shapes=([None, *config['input_shape']], \n",
        "                                       y_shape)\n",
        "                    ).prefetch(tf.data.experimental.AUTOTUNE)\n",
        "        else:\n",
        "            return tf.data.Dataset.from_generator(\n",
        "                        self.batch_generator, args=[], \n",
        "                        output_types=(tf.float32), \n",
        "                        output_shapes=([None, *config['input_shape']])\n",
        "                    ).prefetch(tf.data.experimental.AUTOTUNE)\n",
        "\n",
        "    def on_epoch_end(self):\n",
        "        if self.shuffle == True:\n",
        "            np.random.shuffle(self.data_index)\n",
        "    \n",
        "    @staticmethod\n",
        "    def load_subject(filename):\n",
        "        with h5py.File(filename, 'r') as f:\n",
        "            subject_data = f['SM_feature'][()]\n",
        "        subject_data = subject_data[...,np.newaxis]\n",
        "        return subject_data\n",
        "    \n",
        "    @staticmethod\n",
        "    def zscore(data):\n",
        "        subject_mask = data != 0\n",
        "        data[subject_mask] = (data[subject_mask]-data[subject_mask].mean())/ np.std(data[subject_mask])\n",
        "        return data"
      ],
      "execution_count": null,
      "outputs": []
    },
    {
      "cell_type": "code",
      "metadata": {
        "id": "yHQ9oDHHbQq-"
      },
      "source": [
        ""
      ],
      "execution_count": null,
      "outputs": []
    },
    {
      "cell_type": "code",
      "metadata": {
        "colab": {
          "referenced_widgets": [
            "7194a4a5ea6a448b9b5bf0541d191f70"
          ]
        },
        "id": "EDMqP-t0bQq_",
        "outputId": "65d83945-9604-4326-f559-321d1a87ab6d"
      },
      "source": [
        "X_train = np.zeros((len(train_data), 53, 63, 52, 1), dtype='<f8') ### '<f8' -> '<f4' Downcasting?\n",
        "subject_index_list = train_data.to_numpy()[:,0].astype(int)\n",
        "subject_filename_list = list(map(lambda index: pth.join(train_data_dir, '{}.mat'.format(index)), subject_index_list))\n",
        "\n",
        "with Pool(4) as pool:\n",
        "    for i, subject_data in tqdm(enumerate(pool.imap(DataGenerator.load_subject, subject_filename_list, chunksize=4)), total=len(train_data)):\n",
        "        X_train[i] = subject_data"
      ],
      "execution_count": null,
      "outputs": [
        {
          "output_type": "display_data",
          "data": {
            "application/vnd.jupyter.widget-view+json": {
              "model_id": "7194a4a5ea6a448b9b5bf0541d191f70",
              "version_major": 2,
              "version_minor": 0
            },
            "text/plain": [
              "HBox(children=(FloatProgress(value=0.0, max=5434.0), HTML(value='')))"
            ]
          },
          "metadata": {
            "tags": []
          }
        },
        {
          "output_type": "stream",
          "text": [
            "\n"
          ],
          "name": "stdout"
        }
      ]
    },
    {
      "cell_type": "code",
      "metadata": {
        "colab": {
          "referenced_widgets": [
            "b7e0f3f03d5c4d43abbae755c1c21c8c"
          ]
        },
        "id": "oj7zcQuLbQrA",
        "outputId": "60a1e9a3-3dbe-49ee-f5fb-3939442b3124"
      },
      "source": [
        "if config['is_zscore']:\n",
        "    for i in tqdm(range(X_train.shape[0]), total=X_train.shape[0]):\n",
        "        for j in range(X_train.shape[-1]):\n",
        "            X_train[i,...,j] = DataGenerator.zscore(X_train[i,...,j])"
      ],
      "execution_count": null,
      "outputs": [
        {
          "output_type": "display_data",
          "data": {
            "application/vnd.jupyter.widget-view+json": {
              "model_id": "b7e0f3f03d5c4d43abbae755c1c21c8c",
              "version_major": 2,
              "version_minor": 0
            },
            "text/plain": [
              "HBox(children=(FloatProgress(value=0.0, max=5434.0), HTML(value='')))"
            ]
          },
          "metadata": {
            "tags": []
          }
        },
        {
          "output_type": "stream",
          "text": [
            "\n"
          ],
          "name": "stdout"
        }
      ]
    },
    {
      "cell_type": "code",
      "metadata": {
        "id": "X2JW-qgjbQrA",
        "outputId": "cfb47136-2644-4d99-ff85-9113dc90e936"
      },
      "source": [
        "config['output_label_list'] = train_data.columns.to_list()[1:]\n",
        "config['output_label_list']"
      ],
      "execution_count": null,
      "outputs": [
        {
          "output_type": "execute_result",
          "data": {
            "text/plain": [
              "['age', 'domain1_var1', 'domain1_var2', 'domain2_var1', 'domain2_var2']"
            ]
          },
          "metadata": {
            "tags": []
          },
          "execution_count": 29
        }
      ]
    },
    {
      "cell_type": "code",
      "metadata": {
        "id": "G27qcRqhbQrB",
        "outputId": "39174cac-80e8-46a2-abdf-5f25f18fe9e9"
      },
      "source": [
        "y_train = train_data.to_numpy()[:,1:]\n",
        "\n",
        "y_train.shape"
      ],
      "execution_count": null,
      "outputs": [
        {
          "output_type": "execute_result",
          "data": {
            "text/plain": [
              "(5434, 5)"
            ]
          },
          "metadata": {
            "tags": []
          },
          "execution_count": 30
        }
      ]
    },
    {
      "cell_type": "code",
      "metadata": {
        "id": "5yNSULulbQrB"
      },
      "source": [
        ""
      ],
      "execution_count": null,
      "outputs": []
    },
    {
      "cell_type": "code",
      "metadata": {
        "id": "85APybUgbQrC",
        "outputId": "a046ede8-390e-4027-81ef-f4a1be6e394f"
      },
      "source": [
        "# config['input_shape'] = X_train[0].shape\n",
        "config['input_shape'] = (53, 63, 52, 1)\n",
        "config['input_shape']"
      ],
      "execution_count": null,
      "outputs": [
        {
          "output_type": "execute_result",
          "data": {
            "text/plain": [
              "(53, 63, 52, 1)"
            ]
          },
          "metadata": {
            "tags": []
          },
          "execution_count": 31
        }
      ]
    },
    {
      "cell_type": "code",
      "metadata": {
        "id": "HwIHDJ00bQrC"
      },
      "source": [
        ""
      ],
      "execution_count": null,
      "outputs": []
    },
    {
      "cell_type": "code",
      "metadata": {
        "id": "X8C94lXrbQrD",
        "outputId": "f95e07b4-82d2-4f5c-cb0e-467ae2016cf6"
      },
      "source": [
        "from keras_application_3D import keras_applications\n",
        "from keras_application_3D.keras_applications import xception\n",
        "\n",
        "import tempfile"
      ],
      "execution_count": null,
      "outputs": [
        {
          "output_type": "stream",
          "text": [
            "Using TensorFlow backend.\n"
          ],
          "name": "stderr"
        }
      ]
    },
    {
      "cell_type": "code",
      "metadata": {
        "id": "_A0gJKFWbQrD"
      },
      "source": [
        "keras_applications._KERAS_BACKEND = tf.keras.backend\n",
        "keras_applications._KERAS_LAYERS = tf.keras.layers\n",
        "keras_applications._KERAS_MODELS = tf.keras.models\n",
        "keras_applications._KERAS_UTILS = tf.keras.utils"
      ],
      "execution_count": null,
      "outputs": []
    },
    {
      "cell_type": "code",
      "metadata": {
        "id": "th5KauWRbQrD"
      },
      "source": [
        ""
      ],
      "execution_count": null,
      "outputs": []
    },
    {
      "cell_type": "markdown",
      "metadata": {
        "id": "jsZySRNBc-EC"
      },
      "source": [
        "### Model"
      ]
    },
    {
      "cell_type": "code",
      "metadata": {
        "id": "qGVvNyLNbQrD"
      },
      "source": [
        "def build_cnn(config):\n",
        "    input_layer = Input(shape=config['input_shape'], name='input_layer')\n",
        "    x = xception.CustomXception3D_2(\n",
        "                include_top=False, weights=None, \n",
        "                input_tensor=input_layer, input_shape=config['input_shape'], \n",
        "                pooling=config['pool']['type'], classes=None, \n",
        "                base_channel=config['conv']['base_channel_num'], \n",
        "                use_batchnorm=config['is_batchnorm']\n",
        "            ).output\n",
        "\n",
        "    if config['pool']['type'] == None:\n",
        "        x = Flatten(name='flatten_layer')(x)\n",
        "    if config['is_dropout']:\n",
        "        x = Dropout(config['dropout_rate'], name='output_dropout')(x)    \n",
        "            \n",
        "    output_list = []\n",
        "    for label in config['output_label_list']:\n",
        "        output = Dense(1, activation=config['output_activation'], \n",
        "    #               kernel_regularizer=keras.regularizers.l1_l2(l1=0.001, l2=0.001), \n",
        "                  name='output_{}'.format(label))(x)\n",
        "        output_list.append(output)\n",
        "    model = Model(inputs=input_layer, outputs=output_list, name='{}'.format(BASE_MODEL_NAME))\n",
        "\n",
        "    return model"
      ],
      "execution_count": null,
      "outputs": []
    },
    {
      "cell_type": "code",
      "metadata": {
        "scrolled": true,
        "id": "garZ-6OabQrE",
        "outputId": "bffabb2c-1663-47d2-f8e8-ab090cdbd5e2"
      },
      "source": [
        "model = build_cnn(config)\n",
        "model.summary(line_length=150)\n",
        "print()\n",
        "del model"
      ],
      "execution_count": null,
      "outputs": [
        {
          "output_type": "stream",
          "text": [
            "Model: \"3D_CNN_regression_average_GICA_xception-custom-2\"\n",
            "______________________________________________________________________________________________________________________________________________________\n",
            "Layer (type)                                     Output Shape                     Param #           Connected to                                      \n",
            "======================================================================================================================================================\n",
            "input_layer (InputLayer)                         [(None, 53, 63, 52, 1)]          0                                                                   \n",
            "______________________________________________________________________________________________________________________________________________________\n",
            "block1_conv1 (Conv3D)                            (None, 26, 31, 25, 32)           864               input_layer[0][0]                                 \n",
            "______________________________________________________________________________________________________________________________________________________\n",
            "block1_conv1_bn (BatchNormalization)             (None, 26, 31, 25, 32)           128               block1_conv1[0][0]                                \n",
            "______________________________________________________________________________________________________________________________________________________\n",
            "block1_conv1_act (Activation)                    (None, 26, 31, 25, 32)           0                 block1_conv1_bn[0][0]                             \n",
            "______________________________________________________________________________________________________________________________________________________\n",
            "block1_conv2 (Conv3D)                            (None, 24, 29, 23, 64)           55296             block1_conv1_act[0][0]                            \n",
            "______________________________________________________________________________________________________________________________________________________\n",
            "block1_conv2_bn (BatchNormalization)             (None, 24, 29, 23, 64)           256               block1_conv2[0][0]                                \n",
            "______________________________________________________________________________________________________________________________________________________\n",
            "block1_conv2_act (Activation)                    (None, 24, 29, 23, 64)           0                 block1_conv2_bn[0][0]                             \n",
            "______________________________________________________________________________________________________________________________________________________\n",
            "block4_sepconv1_act (Activation)                 (None, 24, 29, 23, 64)           0                 block1_conv2_act[0][0]                            \n",
            "______________________________________________________________________________________________________________________________________________________\n",
            "block4_sepconv1 (SeparableConv3D)                (None, 24, 29, 23, 192)          14016             block4_sepconv1_act[0][0]                         \n",
            "______________________________________________________________________________________________________________________________________________________\n",
            "block4_sepconv1_bn (BatchNormalization)          (None, 24, 29, 23, 192)          768               block4_sepconv1[0][0]                             \n",
            "______________________________________________________________________________________________________________________________________________________\n",
            "block4_sepconv2_act (Activation)                 (None, 24, 29, 23, 192)          0                 block4_sepconv1_bn[0][0]                          \n",
            "______________________________________________________________________________________________________________________________________________________\n",
            "block4_sepconv2 (SeparableConv3D)                (None, 24, 29, 23, 192)          42048             block4_sepconv2_act[0][0]                         \n",
            "______________________________________________________________________________________________________________________________________________________\n",
            "block4_sepconv2_bn (BatchNormalization)          (None, 24, 29, 23, 192)          768               block4_sepconv2[0][0]                             \n",
            "______________________________________________________________________________________________________________________________________________________\n",
            "conv3d (Conv3D)                                  (None, 12, 15, 12, 192)          12288             block1_conv2_act[0][0]                            \n",
            "______________________________________________________________________________________________________________________________________________________\n",
            "block4_pool (MaxPooling3D)                       (None, 12, 15, 12, 192)          0                 block4_sepconv2_bn[0][0]                          \n",
            "______________________________________________________________________________________________________________________________________________________\n",
            "batch_normalization (BatchNormalization)         (None, 12, 15, 12, 192)          768               conv3d[0][0]                                      \n",
            "______________________________________________________________________________________________________________________________________________________\n",
            "add (Add)                                        (None, 12, 15, 12, 192)          0                 block4_pool[0][0]                                 \n",
            "                                                                                                    batch_normalization[0][0]                         \n",
            "______________________________________________________________________________________________________________________________________________________\n",
            "block5_sepconv1_act (Activation)                 (None, 12, 15, 12, 192)          0                 add[0][0]                                         \n",
            "______________________________________________________________________________________________________________________________________________________\n",
            "block5_sepconv1 (SeparableConv3D)                (None, 12, 15, 12, 192)          42048             block5_sepconv1_act[0][0]                         \n",
            "______________________________________________________________________________________________________________________________________________________\n",
            "block5_sepconv1_bn (BatchNormalization)          (None, 12, 15, 12, 192)          768               block5_sepconv1[0][0]                             \n",
            "______________________________________________________________________________________________________________________________________________________\n",
            "block5_sepconv2_act (Activation)                 (None, 12, 15, 12, 192)          0                 block5_sepconv1_bn[0][0]                          \n",
            "______________________________________________________________________________________________________________________________________________________\n",
            "block5_sepconv2 (SeparableConv3D)                (None, 12, 15, 12, 192)          42048             block5_sepconv2_act[0][0]                         \n",
            "______________________________________________________________________________________________________________________________________________________\n",
            "block5_sepconv2_bn (BatchNormalization)          (None, 12, 15, 12, 192)          768               block5_sepconv2[0][0]                             \n",
            "______________________________________________________________________________________________________________________________________________________\n",
            "block5_sepconv3_act (Activation)                 (None, 12, 15, 12, 192)          0                 block5_sepconv2_bn[0][0]                          \n",
            "______________________________________________________________________________________________________________________________________________________\n",
            "block5_sepconv3 (SeparableConv3D)                (None, 12, 15, 12, 192)          42048             block5_sepconv3_act[0][0]                         \n",
            "______________________________________________________________________________________________________________________________________________________\n",
            "block5_sepconv3_bn (BatchNormalization)          (None, 12, 15, 12, 192)          768               block5_sepconv3[0][0]                             \n",
            "______________________________________________________________________________________________________________________________________________________\n",
            "add_1 (Add)                                      (None, 12, 15, 12, 192)          0                 block5_sepconv3_bn[0][0]                          \n",
            "                                                                                                    add[0][0]                                         \n",
            "______________________________________________________________________________________________________________________________________________________\n",
            "block6_sepconv1_act (Activation)                 (None, 12, 15, 12, 192)          0                 add_1[0][0]                                       \n",
            "______________________________________________________________________________________________________________________________________________________\n",
            "block6_sepconv1 (SeparableConv3D)                (None, 12, 15, 12, 192)          42048             block6_sepconv1_act[0][0]                         \n",
            "______________________________________________________________________________________________________________________________________________________\n",
            "block6_sepconv1_bn (BatchNormalization)          (None, 12, 15, 12, 192)          768               block6_sepconv1[0][0]                             \n",
            "______________________________________________________________________________________________________________________________________________________\n",
            "block6_sepconv2_act (Activation)                 (None, 12, 15, 12, 192)          0                 block6_sepconv1_bn[0][0]                          \n",
            "______________________________________________________________________________________________________________________________________________________\n",
            "block6_sepconv2 (SeparableConv3D)                (None, 12, 15, 12, 192)          42048             block6_sepconv2_act[0][0]                         \n",
            "______________________________________________________________________________________________________________________________________________________\n",
            "block6_sepconv2_bn (BatchNormalization)          (None, 12, 15, 12, 192)          768               block6_sepconv2[0][0]                             \n",
            "______________________________________________________________________________________________________________________________________________________\n",
            "block6_sepconv3_act (Activation)                 (None, 12, 15, 12, 192)          0                 block6_sepconv2_bn[0][0]                          \n",
            "______________________________________________________________________________________________________________________________________________________\n",
            "block6_sepconv3 (SeparableConv3D)                (None, 12, 15, 12, 192)          42048             block6_sepconv3_act[0][0]                         \n",
            "______________________________________________________________________________________________________________________________________________________\n",
            "block6_sepconv3_bn (BatchNormalization)          (None, 12, 15, 12, 192)          768               block6_sepconv3[0][0]                             \n",
            "______________________________________________________________________________________________________________________________________________________\n",
            "add_2 (Add)                                      (None, 12, 15, 12, 192)          0                 block6_sepconv3_bn[0][0]                          \n",
            "                                                                                                    add_1[0][0]                                       \n",
            "______________________________________________________________________________________________________________________________________________________\n",
            "block7_sepconv1_act (Activation)                 (None, 12, 15, 12, 192)          0                 add_2[0][0]                                       \n",
            "______________________________________________________________________________________________________________________________________________________\n",
            "block7_sepconv1 (SeparableConv3D)                (None, 12, 15, 12, 192)          42048             block7_sepconv1_act[0][0]                         \n",
            "______________________________________________________________________________________________________________________________________________________\n",
            "block7_sepconv1_bn (BatchNormalization)          (None, 12, 15, 12, 192)          768               block7_sepconv1[0][0]                             \n",
            "______________________________________________________________________________________________________________________________________________________\n",
            "block7_sepconv2_act (Activation)                 (None, 12, 15, 12, 192)          0                 block7_sepconv1_bn[0][0]                          \n",
            "______________________________________________________________________________________________________________________________________________________\n",
            "block7_sepconv2 (SeparableConv3D)                (None, 12, 15, 12, 192)          42048             block7_sepconv2_act[0][0]                         \n",
            "______________________________________________________________________________________________________________________________________________________\n",
            "block7_sepconv2_bn (BatchNormalization)          (None, 12, 15, 12, 192)          768               block7_sepconv2[0][0]                             \n",
            "______________________________________________________________________________________________________________________________________________________\n",
            "block7_sepconv3_act (Activation)                 (None, 12, 15, 12, 192)          0                 block7_sepconv2_bn[0][0]                          \n",
            "______________________________________________________________________________________________________________________________________________________\n",
            "block7_sepconv3 (SeparableConv3D)                (None, 12, 15, 12, 192)          42048             block7_sepconv3_act[0][0]                         \n",
            "______________________________________________________________________________________________________________________________________________________\n",
            "block7_sepconv3_bn (BatchNormalization)          (None, 12, 15, 12, 192)          768               block7_sepconv3[0][0]                             \n",
            "______________________________________________________________________________________________________________________________________________________\n",
            "add_3 (Add)                                      (None, 12, 15, 12, 192)          0                 block7_sepconv3_bn[0][0]                          \n",
            "                                                                                                    add_2[0][0]                                       \n",
            "______________________________________________________________________________________________________________________________________________________\n",
            "block8_sepconv1_act (Activation)                 (None, 12, 15, 12, 192)          0                 add_3[0][0]                                       \n",
            "______________________________________________________________________________________________________________________________________________________\n",
            "block8_sepconv1 (SeparableConv3D)                (None, 12, 15, 12, 192)          42048             block8_sepconv1_act[0][0]                         \n",
            "______________________________________________________________________________________________________________________________________________________\n",
            "block8_sepconv1_bn (BatchNormalization)          (None, 12, 15, 12, 192)          768               block8_sepconv1[0][0]                             \n",
            "______________________________________________________________________________________________________________________________________________________\n",
            "block8_sepconv2_act (Activation)                 (None, 12, 15, 12, 192)          0                 block8_sepconv1_bn[0][0]                          \n",
            "______________________________________________________________________________________________________________________________________________________\n",
            "block8_sepconv2 (SeparableConv3D)                (None, 12, 15, 12, 192)          42048             block8_sepconv2_act[0][0]                         \n",
            "______________________________________________________________________________________________________________________________________________________\n",
            "block8_sepconv2_bn (BatchNormalization)          (None, 12, 15, 12, 192)          768               block8_sepconv2[0][0]                             \n",
            "______________________________________________________________________________________________________________________________________________________\n",
            "block8_sepconv3_act (Activation)                 (None, 12, 15, 12, 192)          0                 block8_sepconv2_bn[0][0]                          \n",
            "______________________________________________________________________________________________________________________________________________________\n",
            "block8_sepconv3 (SeparableConv3D)                (None, 12, 15, 12, 192)          42048             block8_sepconv3_act[0][0]                         \n",
            "______________________________________________________________________________________________________________________________________________________\n",
            "block8_sepconv3_bn (BatchNormalization)          (None, 12, 15, 12, 192)          768               block8_sepconv3[0][0]                             \n",
            "______________________________________________________________________________________________________________________________________________________\n",
            "add_4 (Add)                                      (None, 12, 15, 12, 192)          0                 block8_sepconv3_bn[0][0]                          \n",
            "                                                                                                    add_3[0][0]                                       \n",
            "______________________________________________________________________________________________________________________________________________________\n",
            "block9_sepconv1_act (Activation)                 (None, 12, 15, 12, 192)          0                 add_4[0][0]                                       \n",
            "______________________________________________________________________________________________________________________________________________________\n",
            "block9_sepconv1 (SeparableConv3D)                (None, 12, 15, 12, 192)          42048             block9_sepconv1_act[0][0]                         \n",
            "______________________________________________________________________________________________________________________________________________________\n",
            "block9_sepconv1_bn (BatchNormalization)          (None, 12, 15, 12, 192)          768               block9_sepconv1[0][0]                             \n",
            "______________________________________________________________________________________________________________________________________________________\n",
            "block9_sepconv2_act (Activation)                 (None, 12, 15, 12, 192)          0                 block9_sepconv1_bn[0][0]                          \n",
            "______________________________________________________________________________________________________________________________________________________\n",
            "block9_sepconv2 (SeparableConv3D)                (None, 12, 15, 12, 192)          42048             block9_sepconv2_act[0][0]                         \n",
            "______________________________________________________________________________________________________________________________________________________\n",
            "block9_sepconv2_bn (BatchNormalization)          (None, 12, 15, 12, 192)          768               block9_sepconv2[0][0]                             \n",
            "______________________________________________________________________________________________________________________________________________________\n",
            "block9_sepconv3_act (Activation)                 (None, 12, 15, 12, 192)          0                 block9_sepconv2_bn[0][0]                          \n",
            "______________________________________________________________________________________________________________________________________________________\n",
            "block9_sepconv3 (SeparableConv3D)                (None, 12, 15, 12, 192)          42048             block9_sepconv3_act[0][0]                         \n",
            "______________________________________________________________________________________________________________________________________________________\n",
            "block9_sepconv3_bn (BatchNormalization)          (None, 12, 15, 12, 192)          768               block9_sepconv3[0][0]                             \n",
            "______________________________________________________________________________________________________________________________________________________\n",
            "add_5 (Add)                                      (None, 12, 15, 12, 192)          0                 block9_sepconv3_bn[0][0]                          \n",
            "                                                                                                    add_4[0][0]                                       \n",
            "______________________________________________________________________________________________________________________________________________________\n",
            "block10_sepconv1_act (Activation)                (None, 12, 15, 12, 192)          0                 add_5[0][0]                                       \n",
            "______________________________________________________________________________________________________________________________________________________\n",
            "block10_sepconv1 (SeparableConv3D)               (None, 12, 15, 12, 192)          42048             block10_sepconv1_act[0][0]                        \n",
            "______________________________________________________________________________________________________________________________________________________\n",
            "block10_sepconv1_bn (BatchNormalization)         (None, 12, 15, 12, 192)          768               block10_sepconv1[0][0]                            \n",
            "______________________________________________________________________________________________________________________________________________________\n",
            "block10_sepconv2_act (Activation)                (None, 12, 15, 12, 192)          0                 block10_sepconv1_bn[0][0]                         \n",
            "______________________________________________________________________________________________________________________________________________________\n",
            "block10_sepconv2 (SeparableConv3D)               (None, 12, 15, 12, 192)          42048             block10_sepconv2_act[0][0]                        \n",
            "______________________________________________________________________________________________________________________________________________________\n",
            "block10_sepconv2_bn (BatchNormalization)         (None, 12, 15, 12, 192)          768               block10_sepconv2[0][0]                            \n",
            "______________________________________________________________________________________________________________________________________________________\n",
            "block10_sepconv3_act (Activation)                (None, 12, 15, 12, 192)          0                 block10_sepconv2_bn[0][0]                         \n",
            "______________________________________________________________________________________________________________________________________________________\n",
            "block10_sepconv3 (SeparableConv3D)               (None, 12, 15, 12, 192)          42048             block10_sepconv3_act[0][0]                        \n",
            "______________________________________________________________________________________________________________________________________________________\n",
            "block10_sepconv3_bn (BatchNormalization)         (None, 12, 15, 12, 192)          768               block10_sepconv3[0][0]                            \n",
            "______________________________________________________________________________________________________________________________________________________\n",
            "add_6 (Add)                                      (None, 12, 15, 12, 192)          0                 block10_sepconv3_bn[0][0]                         \n",
            "                                                                                                    add_5[0][0]                                       \n",
            "______________________________________________________________________________________________________________________________________________________\n",
            "block11_sepconv1_act (Activation)                (None, 12, 15, 12, 192)          0                 add_6[0][0]                                       \n",
            "______________________________________________________________________________________________________________________________________________________\n",
            "block11_sepconv1 (SeparableConv3D)               (None, 12, 15, 12, 192)          42048             block11_sepconv1_act[0][0]                        \n",
            "______________________________________________________________________________________________________________________________________________________\n",
            "block11_sepconv1_bn (BatchNormalization)         (None, 12, 15, 12, 192)          768               block11_sepconv1[0][0]                            \n",
            "______________________________________________________________________________________________________________________________________________________\n",
            "block11_sepconv2_act (Activation)                (None, 12, 15, 12, 192)          0                 block11_sepconv1_bn[0][0]                         \n",
            "______________________________________________________________________________________________________________________________________________________\n",
            "block11_sepconv2 (SeparableConv3D)               (None, 12, 15, 12, 192)          42048             block11_sepconv2_act[0][0]                        \n",
            "______________________________________________________________________________________________________________________________________________________\n",
            "block11_sepconv2_bn (BatchNormalization)         (None, 12, 15, 12, 192)          768               block11_sepconv2[0][0]                            \n",
            "______________________________________________________________________________________________________________________________________________________\n",
            "block11_sepconv3_act (Activation)                (None, 12, 15, 12, 192)          0                 block11_sepconv2_bn[0][0]                         \n",
            "______________________________________________________________________________________________________________________________________________________\n",
            "block11_sepconv3 (SeparableConv3D)               (None, 12, 15, 12, 192)          42048             block11_sepconv3_act[0][0]                        \n",
            "______________________________________________________________________________________________________________________________________________________\n",
            "block11_sepconv3_bn (BatchNormalization)         (None, 12, 15, 12, 192)          768               block11_sepconv3[0][0]                            \n",
            "______________________________________________________________________________________________________________________________________________________\n",
            "add_7 (Add)                                      (None, 12, 15, 12, 192)          0                 block11_sepconv3_bn[0][0]                         \n",
            "                                                                                                    add_6[0][0]                                       \n",
            "______________________________________________________________________________________________________________________________________________________\n",
            "block12_sepconv1_act (Activation)                (None, 12, 15, 12, 192)          0                 add_7[0][0]                                       \n",
            "______________________________________________________________________________________________________________________________________________________\n",
            "block12_sepconv1 (SeparableConv3D)               (None, 12, 15, 12, 192)          42048             block12_sepconv1_act[0][0]                        \n",
            "______________________________________________________________________________________________________________________________________________________\n",
            "block12_sepconv1_bn (BatchNormalization)         (None, 12, 15, 12, 192)          768               block12_sepconv1[0][0]                            \n",
            "______________________________________________________________________________________________________________________________________________________\n",
            "block12_sepconv2_act (Activation)                (None, 12, 15, 12, 192)          0                 block12_sepconv1_bn[0][0]                         \n",
            "______________________________________________________________________________________________________________________________________________________\n",
            "block12_sepconv2 (SeparableConv3D)               (None, 12, 15, 12, 192)          42048             block12_sepconv2_act[0][0]                        \n",
            "______________________________________________________________________________________________________________________________________________________\n",
            "block12_sepconv2_bn (BatchNormalization)         (None, 12, 15, 12, 192)          768               block12_sepconv2[0][0]                            \n",
            "______________________________________________________________________________________________________________________________________________________\n",
            "block12_sepconv3_act (Activation)                (None, 12, 15, 12, 192)          0                 block12_sepconv2_bn[0][0]                         \n",
            "______________________________________________________________________________________________________________________________________________________\n",
            "block12_sepconv3 (SeparableConv3D)               (None, 12, 15, 12, 192)          42048             block12_sepconv3_act[0][0]                        \n",
            "______________________________________________________________________________________________________________________________________________________\n",
            "block12_sepconv3_bn (BatchNormalization)         (None, 12, 15, 12, 192)          768               block12_sepconv3[0][0]                            \n",
            "______________________________________________________________________________________________________________________________________________________\n",
            "add_8 (Add)                                      (None, 12, 15, 12, 192)          0                 block12_sepconv3_bn[0][0]                         \n",
            "                                                                                                    add_7[0][0]                                       \n",
            "______________________________________________________________________________________________________________________________________________________\n",
            "block13_sepconv1_act (Activation)                (None, 12, 15, 12, 192)          0                 add_8[0][0]                                       \n",
            "______________________________________________________________________________________________________________________________________________________\n",
            "block13_sepconv1 (SeparableConv3D)               (None, 12, 15, 12, 192)          42048             block13_sepconv1_act[0][0]                        \n",
            "______________________________________________________________________________________________________________________________________________________\n",
            "block13_sepconv1_bn (BatchNormalization)         (None, 12, 15, 12, 192)          768               block13_sepconv1[0][0]                            \n",
            "______________________________________________________________________________________________________________________________________________________\n",
            "block13_sepconv2_act (Activation)                (None, 12, 15, 12, 192)          0                 block13_sepconv1_bn[0][0]                         \n",
            "______________________________________________________________________________________________________________________________________________________\n",
            "block13_sepconv2 (SeparableConv3D)               (None, 12, 15, 12, 256)          54336             block13_sepconv2_act[0][0]                        \n",
            "______________________________________________________________________________________________________________________________________________________\n",
            "block13_sepconv2_bn (BatchNormalization)         (None, 12, 15, 12, 256)          1024              block13_sepconv2[0][0]                            \n",
            "______________________________________________________________________________________________________________________________________________________\n",
            "conv3d_1 (Conv3D)                                (None, 6, 8, 6, 256)             49152             add_8[0][0]                                       \n",
            "______________________________________________________________________________________________________________________________________________________\n",
            "block13_pool (MaxPooling3D)                      (None, 6, 8, 6, 256)             0                 block13_sepconv2_bn[0][0]                         \n",
            "______________________________________________________________________________________________________________________________________________________\n",
            "batch_normalization_1 (BatchNormalization)       (None, 6, 8, 6, 256)             1024              conv3d_1[0][0]                                    \n",
            "______________________________________________________________________________________________________________________________________________________\n",
            "add_9 (Add)                                      (None, 6, 8, 6, 256)             0                 block13_pool[0][0]                                \n",
            "                                                                                                    batch_normalization_1[0][0]                       \n",
            "______________________________________________________________________________________________________________________________________________________\n",
            "block14_sepconv1 (SeparableConv3D)               (None, 6, 8, 6, 768)             203520            add_9[0][0]                                       \n",
            "______________________________________________________________________________________________________________________________________________________\n",
            "block14_sepconv1_bn (BatchNormalization)         (None, 6, 8, 6, 768)             3072              block14_sepconv1[0][0]                            \n",
            "______________________________________________________________________________________________________________________________________________________\n",
            "block14_sepconv1_act (Activation)                (None, 6, 8, 6, 768)             0                 block14_sepconv1_bn[0][0]                         \n",
            "______________________________________________________________________________________________________________________________________________________\n",
            "block14_sepconv2 (SeparableConv3D)               (None, 6, 8, 6, 512)             413952            block14_sepconv1_act[0][0]                        \n",
            "______________________________________________________________________________________________________________________________________________________\n",
            "block14_sepconv2_bn (BatchNormalization)         (None, 6, 8, 6, 512)             2048              block14_sepconv2[0][0]                            \n",
            "______________________________________________________________________________________________________________________________________________________\n",
            "block14_sepconv2_act (Activation)                (None, 6, 8, 6, 512)             0                 block14_sepconv2_bn[0][0]                         \n",
            "______________________________________________________________________________________________________________________________________________________\n",
            "output_dropout (Dropout)                         (None, 6, 8, 6, 512)             0                 block14_sepconv2_act[0][0]                        \n",
            "______________________________________________________________________________________________________________________________________________________\n",
            "output_age (Dense)                               (None, 6, 8, 6, 1)               513               output_dropout[0][0]                              \n",
            "______________________________________________________________________________________________________________________________________________________\n",
            "output_domain1_var1 (Dense)                      (None, 6, 8, 6, 1)               513               output_dropout[0][0]                              \n",
            "______________________________________________________________________________________________________________________________________________________\n",
            "output_domain1_var2 (Dense)                      (None, 6, 8, 6, 1)               513               output_dropout[0][0]                              \n",
            "______________________________________________________________________________________________________________________________________________________\n",
            "output_domain2_var1 (Dense)                      (None, 6, 8, 6, 1)               513               output_dropout[0][0]                              \n",
            "______________________________________________________________________________________________________________________________________________________\n",
            "output_domain2_var2 (Dense)                      (None, 6, 8, 6, 1)               513               output_dropout[0][0]                              \n",
            "======================================================================================================================================================\n",
            "Total params: 1,928,293\n",
            "Trainable params: 1,913,765\n",
            "Non-trainable params: 14,528\n",
            "______________________________________________________________________________________________________________________________________________________\n",
            "\n"
          ],
          "name": "stdout"
        }
      ]
    },
    {
      "cell_type": "code",
      "metadata": {
        "id": "z567z_NhbQrE"
      },
      "source": [
        ""
      ],
      "execution_count": null,
      "outputs": []
    },
    {
      "cell_type": "markdown",
      "metadata": {
        "id": "1Rg9kYm3c_9z"
      },
      "source": [
        "### Define custom function"
      ]
    },
    {
      "cell_type": "code",
      "metadata": {
        "id": "IId5qs3QbQrF"
      },
      "source": [
        "def normalized_mae_loss(y_true, y_pred):\n",
        "    sae = K.sum(K.abs(y_pred-y_true))\n",
        "    norm_val = K.sum(K.abs(y_true))\n",
        "    norm_sae = sae/norm_val\n",
        "#    return K.sum(norm_sae, axis=-1)\n",
        "    return norm_sae\n",
        "\n",
        "def make_trends_score(y_true, y_pred):\n",
        "    sae = np.sum(np.abs(y_pred-y_true), axis=0)\n",
        "    norm_val = np.sum(np.abs(y_true), axis=0)\n",
        "    norm_sae = sae/norm_val\n",
        "    norm_sae *= np.array([0.3,0.175,0.175,0.175,0.175])\n",
        "    return np.sum(norm_sae, axis=-1), norm_sae"
      ],
      "execution_count": null,
      "outputs": []
    },
    {
      "cell_type": "code",
      "metadata": {
        "id": "FL2I9WktbQrG"
      },
      "source": [
        "class CustomHistory(History):\n",
        "    def __init__(self, config=None, **kargs):\n",
        "        super().__init__(**kargs)\n",
        "        self.config = config\n",
        "        self.loss_weights = {'output_{}_normalized_mae_loss'.format(label):self.config['loss_weights'][label] \n",
        "                                for label in self.config['output_label_list']}\n",
        "    \n",
        "    def on_train_begin(self, logs=None):\n",
        "        super().on_train_begin(logs=logs)\n",
        "        self.epoch = []\n",
        "        self.history = {}\n",
        "\n",
        "    def on_epoch_end(self, epoch, logs=None):\n",
        "        super().on_epoch_end(epoch=epoch, logs=logs)\n",
        "        train_score_array = np.array([logs[k]*v for k, v in self.loss_weights.items()])\n",
        "        val_score_array = np.array([logs['val_'+k]*v for k, v in self.loss_weights.items()])\n",
        "        for k, v in zip(['trends_score', 'val_trends_score'], [train_score_array, val_score_array]):\n",
        "            trends_score = v.sum(axis=-1)\n",
        "            self.history.setdefault(k, []).append(trends_score)\n",
        "            print('{}: {}'.format(k, trends_score))\n",
        "        print()"
      ],
      "execution_count": null,
      "outputs": []
    },
    {
      "cell_type": "code",
      "metadata": {
        "id": "cCLNhh9VbQrG"
      },
      "source": [
        ""
      ],
      "execution_count": null,
      "outputs": []
    },
    {
      "cell_type": "code",
      "metadata": {
        "id": "FHOOjfp7bQrH"
      },
      "source": [
        "def calculate_sample_weight(df):\n",
        "    df = df.copy()\n",
        "    df -= df.min()\n",
        "    df /= (df.max()*(1+1e-12))\n",
        "    df *= 5\n",
        "    df = np.trunc(df)\n",
        "    sample_weight = compute_sample_weight(class_weight = \"balanced\", y=df)\n",
        "    return df, sample_weight\n",
        "\n",
        "def make_smooth_weight(weight):\n",
        "    smooth_weight = weight.copy()\n",
        "    smooth_weight = np.log(smooth_weight)\n",
        "    smooth_weight[smooth_weight<1.0] = 1.0\n",
        "    return smooth_weight"
      ],
      "execution_count": null,
      "outputs": []
    },
    {
      "cell_type": "code",
      "metadata": {
        "id": "lCUOx_CpbQrI"
      },
      "source": [
        ""
      ],
      "execution_count": null,
      "outputs": []
    },
    {
      "cell_type": "markdown",
      "metadata": {
        "id": "GXcKxzAZc6m-"
      },
      "source": [
        "### Training"
      ]
    },
    {
      "cell_type": "code",
      "metadata": {
        "id": "9wK8Bo2KbQrI"
      },
      "source": [
        "model_base_path = '/users/lww/data/trend_competition/model'\n",
        "os.makedirs(model_base_path, exist_ok=True)"
      ],
      "execution_count": null,
      "outputs": []
    },
    {
      "cell_type": "code",
      "metadata": {
        "scrolled": true,
        "id": "Bhhf7dBsbQrI"
      },
      "source": [
        "for loss_str in loss_list:\n",
        "    config['loss'] = loss_str\n",
        "    for batch_size in batch_size_list:\n",
        "        config['batch_size'] = batch_size \n",
        "        for is_batchnorm in is_batchnorm_list:\n",
        "            config['is_batchnorm'] = is_batchnorm \n",
        "            for activation_func in activation_list:\n",
        "                config['activation'] = activation_func\n",
        "                for conv_padding_str in conv_padding_list:\n",
        "                    config['conv']['padding'] = conv_padding_str\n",
        "                    for pool_padding_str in pool_padding_list:\n",
        "                        config['pool']['padding'] = pool_padding_str\n",
        "                        for pool_type in pool_type_list:\n",
        "                            config['pool']['type'] = pool_type\n",
        "                            for base_channel_num in base_channel_list:\n",
        "                                config['conv']['base_channel_num'] = base_channel_num\n",
        "                                for conv_comb in conv_comb_list:\n",
        "                                    config['conv']['conv_num'] = conv_comb\n",
        "                                    for fc_num in fc_list:\n",
        "                                        config['fc']['fc_num'] = fc_num\n",
        "                                        for missing_value in missing_value_list:\n",
        "                                            config['missing_value'] = missing_value\n",
        "                                            for sample_weight_str in sample_weight_list:\n",
        "                                                config['sample_weight'] = sample_weight_str\n",
        "\n",
        "                                                for target in config['label_list']:\n",
        "                                                    config['output_label_list'] = [target]\n",
        "                                                    w = config['loss_weights'][target]\n",
        "\n",
        "                                                    target_df = train_data.copy()\n",
        "                                                    target_df['original_index'] = train_data.index.values\n",
        "                                                    if config['missing_value'] == 'exclude':\n",
        "                                                        not_null_df = target_df[target].notnull()\n",
        "                                                        target_df = target_df[not_null_df].reindex()\n",
        "                                                    elif config['missing_value'] == 'mean':\n",
        "                                                        pass\n",
        "                                                    elif config['missing_value'] == 'median':\n",
        "                                                        pass\n",
        "\n",
        "                                                    if config['sample_weight'] == 'log':\n",
        "                                                        target_y_df, sample_weight = calculate_sample_weight(target_df[target])\n",
        "                                                        sample_weight = make_smooth_weight(sample_weight)\n",
        "                                                    elif config['sample_weight'] == 'sample':\n",
        "                                                        target_y_df, sample_weight = calculate_sample_weight(target_df[target])\n",
        "                                                    else:\n",
        "                                                        target_y_df, _ = calculate_sample_weight(target_df[target])\n",
        "                                                        sample_weight = np.ones(len(target_df[target]))\n",
        "\n",
        "                                                    rkf = RepeatedStratifiedKFold(n_splits=config['num_fold'], \n",
        "                                                                                  n_repeats=config['num_repeat'], \n",
        "                                                                                  random_state=config['random_state']\n",
        "                                                                                 )\n",
        "                                                    for i, (train_index_temp, val_index_temp) in enumerate(rkf.split(target_df, target_y_df)):\n",
        "                                                        fold_num = (i%config['num_fold']) + 1\n",
        "                                                        repeat_num = (i//config['num_fold']) + 1\n",
        "\n",
        "                                                        if not ((repeat_num>=REPEAT_START and repeat_num<=REPEAT_END) and (fold_num>=1 and fold_num<=5)):\n",
        "                                                            continue\n",
        "\n",
        "                                                        train_index = target_df['original_index'].values[train_index_temp]\n",
        "                                                        val_index = target_df['original_index'].values[val_index_temp]\n",
        "\n",
        "                                                        train_generator = DataGenerator(all_x=X_train, all_y=train_data[target].values, \n",
        "                                                                                        data_index=train_index, \n",
        "                                                                                        config=config, shuffle=True\n",
        "                                                                                       )\n",
        "                                                        train_generator = train_generator.batch_generator_for_tfdata()\n",
        "\n",
        "                                                        val_generator = DataGenerator(all_x=X_train, all_y=train_data[target].values, \n",
        "                                                                                        data_index=val_index, \n",
        "                                                                                        config=config, shuffle=True\n",
        "                                                                                     )\n",
        "                                                        val_generator = val_generator.batch_generator_for_tfdata()\n",
        "\n",
        "                                                        base = BASE_MODEL_NAME\n",
        "\n",
        "                                                        base += '_missing-value_{}'.format(config['missing_value'])\n",
        "                                                        base += '_sample-weight_{}'.format(config['sample_weight'])\n",
        "\n",
        "                                                        base += '_split-method_{}'.format(str(config['num_fold'])+'fold')\n",
        "                                                        base += '_zscore_{}'.format(config['is_zscore'])\n",
        "\n",
        "                                                        base += '_loss_{}'.format(config['loss'].replace('_', '-'))\n",
        "                                                        base += '_basech_{}'.format(str(config['conv']['base_channel_num']).zfill(2))\n",
        "\n",
        "                                                        base += '_conv_{}'.format('-'.join(map(lambda x:str(x),config['conv']['conv_num'])))\n",
        "                                                        base += '_conv-pad_{}'.format(config['conv']['padding'])\n",
        "                                                        base += '_pool-type_{}'.format(config['pool']['type'])\n",
        "                                                        base += '_pool-pad_{}'.format(config['pool']['padding'])\n",
        "                                                        base += '_fc_{}'.format(fc_num)\n",
        "                                                        base += '_act_{}'.format(config['activation'])\n",
        "\n",
        "                                                        if config['is_dropout']:\n",
        "                                                            base += '_DO_'+str(config['dropout_rate']).replace('.', '')\n",
        "                                                        if config['is_batchnorm']:\n",
        "                                                            base += '_BN'+'_O'\n",
        "                                                        else:\n",
        "                                                            base += '_BN'+'_X'\n",
        "\n",
        "                                                        model_name = base\n",
        "\n",
        "                                                        print(model_name, 'Batch:', config['batch_size'])\n",
        "                                                        print('{}th_repeat, {}th_fold'.format(repeat_num, fold_num))\n",
        "\n",
        "                                                        if config['loss'] == 'mse':\n",
        "                                                            loss_funcs = {'output_{}'.format(label):'mse' \n",
        "                                                                        for label in config['output_label_list']}\n",
        "                                                            loss_weights = {'output_{}'.format(label):1.0 \n",
        "                                                                        for label in config['output_label_list']}\n",
        "                                                            config['output_activation'] = 'linear'\n",
        "                                                        elif config['loss'] == 'mae':\n",
        "                                                            loss_funcs = {'output_{}'.format(label):'mae' \n",
        "                                                                        for label in config['output_label_list']}\n",
        "                                                            loss_weights = {'output_{}'.format(label):1.0 \n",
        "                                                                        for label in config['output_label_list']}\n",
        "                                                            config['output_activation'] = 'linear'\n",
        "                                                        else:\n",
        "                                                            loss_funcs = {'output_{}'.format(label):'mse' \n",
        "                                                                        for label in config['output_label_list']}\n",
        "                                                            loss_weights = {'output_{}'.format(label):1.0 \n",
        "                                                                        for label in config['output_label_list']}\n",
        "                                                            config['output_activation'] = 'linear'\n",
        "\n",
        "                                                        model = build_cnn(config)\n",
        "#                                                         model.summary()\n",
        "\n",
        "                                                        model.compile(loss=loss_funcs, loss_weights=loss_weights, \n",
        "                                                                      optimizer=Adam(lr=config['learning_rate']),\n",
        "                                                                      metrics=['mse', 'mae', normalized_mae_loss])\n",
        "\n",
        "                                                        model_checkpoint_base = pth.join(model_base_path, 'checkpoint')\n",
        "                                                        model_path = pth.join(model_checkpoint_base, model_name, \n",
        "                                                                              'batch_{}'.format(str(config['batch_size']).zfill(3)),\n",
        "                                                                              str(config['num_repeat']).zfill(2)+'_repeat', \n",
        "                                                                              str(repeat_num).zfill(2)+'th_repeat',\n",
        "                                                                              str(config['num_fold']).zfill(2)+'_fold',\n",
        "                                                                              str(fold_num).zfill(2)+'th_fold',\n",
        "                                                                              '_'.join(config['output_label_list'])\n",
        "                                                                             )\n",
        "                                                        if pth.isdir(model_path):\n",
        "                                                            shutil.rmtree(model_path)\n",
        "                                                        os.makedirs(model_path, exist_ok=True)\n",
        "                                                        model_filename = pth.join(model_path, '{epoch:06d}-{val_loss:.6f}.hdf5')\n",
        "\n",
        "                                                        checkpointer = ModelCheckpoint(filepath = model_filename, monitor = \"val_loss\", \n",
        "                                                                               verbose=1, save_best_only=True)\n",
        "                                                        early_stopping = EarlyStopping(monitor='val_loss', patience=10)\n",
        "#                                                         history = CustomHistory(config=config)\n",
        "\n",
        "                                                        hist = model.fit(x=train_generator, epochs=3, #config['num_epoch'], \n",
        "                                                                         validation_data=val_generator, shuffle=True,\n",
        "                                                                         callbacks = [checkpointer, early_stopping], \n",
        "                #                                                          batch_size=config['batch_size'],\n",
        "                #                                                          use_multiprocessing=True,\n",
        "                #                                                          workers=4\n",
        "                                                                        )\n",
        "\n",
        "                                                        analysis_base_path = pth.join(model_base_path, 'analysis')\n",
        "\n",
        "                                                        model_analysis_path = pth.join(analysis_base_path, model_name, \n",
        "                                                                                       'batch_'+str(config['batch_size']).zfill(3))\n",
        "                                                        each_repeat_path = pth.join(model_analysis_path, str(config['num_repeat']).zfill(2)+'_repeat')\n",
        "                                                        each_repeat_iterate_path = pth.join(each_repeat_path, str(repeat_num).zfill(2)+'th_repeat')\n",
        "                                                        each_fold_path = pth.join(each_repeat_iterate_path, str(config['num_fold']).zfill(2)+'_fold')\n",
        "                                                        each_fold_iterate_path = pth.join(each_fold_path, str(fold_num).zfill(2)+'th_fold')\n",
        "                                                        target_label_path = pth.join(each_fold_iterate_path, '_'.join(config['output_label_list']))\n",
        "                                                        visualization_path = pth.join(target_label_path,'visualization')\n",
        "                                                        os.makedirs(visualization_path, exist_ok=True)\n",
        "\n",
        "                                                        for each_label in ['loss']:\n",
        "                                                            fig, ax = plt.subplots()\n",
        "                                                            ax.plot(history.history[each_label], 'g', label='train_{}'.format(each_label))\n",
        "                                                            ax.plot(history.history['val_{}'.format(each_label)], 'r', label='val_{}'.format(each_label))\n",
        "                                                            ax.set_xlabel('epoch')\n",
        "                                                            ax.set_ylabel('loss')\n",
        "                                                            ax.legend(loc='upper left')\n",
        "            #                                                 plt.ylim(0, 2)\n",
        "                            #                                 plt.show()\n",
        "                                                            filename = 'learning_curve_{}'.format(each_label)\n",
        "                                                            fig.savefig(pth.join(visualization_path, filename), transparent=True)\n",
        "                                                            plt.cla()\n",
        "                                                            plt.clf()\n",
        "                                                            plt.close('all')\n",
        "\n",
        "                                                        np.savez_compressed(pth.join(visualization_path, 'learning_curve'), \n",
        "                                                                            history=history.history, \n",
        "                                                                           )\n",
        "                                                        np.savez_compressed(pth.join(target_label_path, 'used_index'),\n",
        "                                                                            train_index=train_index, val_index=val_index\n",
        "                                                                           )\n",
        "\n",
        "                #                                         model.save(pth.join(model_path, '000_last.hdf5'))\n",
        "                                                        K.clear_session()\n",
        "                                                        del(model)\n",
        "                                                        gc.collect()\n",
        "                                                        with open(pth.join(each_repeat_path, 'config.json'), 'w') as f:\n",
        "                                                            json.dump(config, f)\n",
        "\n",
        "                                                        chk_name_list = sorted([name for name in os.listdir(model_path) if name != '000_last.hdf5'])\n",
        "                                                        for chk_name in chk_name_list[:-1]:\n",
        "                                                            os.remove(pth.join(model_path, chk_name))\n",
        "                                                        clear_output()"
      ],
      "execution_count": null,
      "outputs": []
    },
    {
      "cell_type": "code",
      "metadata": {
        "id": "Cu1RPR7IbQrO"
      },
      "source": [
        ""
      ],
      "execution_count": null,
      "outputs": []
    },
    {
      "cell_type": "markdown",
      "metadata": {
        "id": "yaCbpuphc43N"
      },
      "source": [
        "### Inference"
      ]
    },
    {
      "cell_type": "code",
      "metadata": {
        "id": "81GnYRyzbQrP"
      },
      "source": [
        "submission_base = '/users/lww/code/Research/trend_competition/submissions'\n",
        "model_base_path = '/users/lww/data/trend_competition/model'"
      ],
      "execution_count": null,
      "outputs": []
    },
    {
      "cell_type": "code",
      "metadata": {
        "id": "BK4761_hbQrP"
      },
      "source": [
        "from itertools import cycle"
      ],
      "execution_count": null,
      "outputs": []
    },
    {
      "cell_type": "code",
      "metadata": {
        "id": "pDPkvgq7bQrP",
        "outputId": "c9e84f33-110a-4c16-8585-fb90a2edef53"
      },
      "source": [
        "test_filename_list = os.listdir(test_data_dir)\n",
        "test_filename_list[:5]"
      ],
      "execution_count": null,
      "outputs": [
        {
          "output_type": "execute_result",
          "data": {
            "text/plain": [
              "['10043.mat', '10029.mat', '10003.mat', '10012.mat', '10023.mat']"
            ]
          },
          "metadata": {
            "tags": []
          },
          "execution_count": 68
        }
      ]
    },
    {
      "cell_type": "code",
      "metadata": {
        "id": "syTpv6FQbQrQ"
      },
      "source": [
        "# test_filename_list = test_filename_list[:128]"
      ],
      "execution_count": null,
      "outputs": []
    },
    {
      "cell_type": "code",
      "metadata": {
        "colab": {
          "referenced_widgets": [
            "83b140a1a61c4576b3ac3ec31871e004"
          ]
        },
        "id": "qPiQpiZrbQrQ",
        "outputId": "eb6f8d04-5cf7-4fc7-837d-0f47bd8ec561"
      },
      "source": [
        "X_test = np.zeros((len(test_filename_list), 53, 63, 52, 1), dtype='<f8')\n",
        "subject_filename_list = [pth.join(test_data_dir, filename) for filename in test_filename_list]\n",
        "\n",
        "with Pool(4) as pool:\n",
        "    for i, subject_data in tqdm(enumerate(pool.imap(DataGenerator.load_subject, subject_filename_list, chunksize=4)), total=len(test_filename_list)):\n",
        "        X_test[i] = subject_data"
      ],
      "execution_count": null,
      "outputs": [
        {
          "output_type": "display_data",
          "data": {
            "application/vnd.jupyter.widget-view+json": {
              "model_id": "83b140a1a61c4576b3ac3ec31871e004",
              "version_major": 2,
              "version_minor": 0
            },
            "text/plain": [
              "HBox(children=(FloatProgress(value=0.0, max=5877.0), HTML(value='')))"
            ]
          },
          "metadata": {
            "tags": []
          }
        },
        {
          "output_type": "stream",
          "text": [
            "\n"
          ],
          "name": "stdout"
        }
      ]
    },
    {
      "cell_type": "code",
      "metadata": {
        "colab": {
          "referenced_widgets": [
            "799624c77c114df7bc8a84f43afb0305"
          ]
        },
        "id": "EqRGzpqtbQrQ",
        "outputId": "4ba63be3-307e-48ba-c2ce-7dc2b68e1f6a"
      },
      "source": [
        "if config['is_zscore']:\n",
        "    for i in tqdm(range(X_test.shape[0]), total=X_test.shape[0]):\n",
        "        for j in range(X_test.shape[-1]):\n",
        "            X_test[i,...,j] = DataGenerator.zscore(X_test[i,...,j])"
      ],
      "execution_count": null,
      "outputs": [
        {
          "output_type": "display_data",
          "data": {
            "application/vnd.jupyter.widget-view+json": {
              "model_id": "799624c77c114df7bc8a84f43afb0305",
              "version_major": 2,
              "version_minor": 0
            },
            "text/plain": [
              "HBox(children=(FloatProgress(value=0.0, max=5877.0), HTML(value='')))"
            ]
          },
          "metadata": {
            "tags": []
          }
        },
        {
          "output_type": "stream",
          "text": [
            "\n"
          ],
          "name": "stdout"
        }
      ]
    },
    {
      "cell_type": "code",
      "metadata": {
        "id": "siCcog_TbQrR"
      },
      "source": [
        ""
      ],
      "execution_count": null,
      "outputs": []
    },
    {
      "cell_type": "code",
      "metadata": {
        "id": "snq5XI4HbQrR"
      },
      "source": [
        "from keras_application_3D.keras_applications.custom_layers import SeparableConv3D"
      ],
      "execution_count": null,
      "outputs": []
    },
    {
      "cell_type": "code",
      "metadata": {
        "scrolled": true,
        "colab": {
          "referenced_widgets": [
            "c79905eaa32d42fa81d8d7f4a964c0f1",
            "bfb491e2ed254bc38cc29e605dc82193",
            "04354dc6cf2e45d2b43edda1b0569d27",
            "3698ac00bf7e44a9985095b4b72ff3c7",
            "eb137f30b10649028d06d313da413eac",
            "d409f595f4704326adbfef2f216c90e6",
            "5280870849194b5dbded3d9c3626d281",
            "d137c742e814417485cefbb3d22b0121"
          ]
        },
        "id": "flDZLrejbQrR",
        "outputId": "c43e8b0d-cefc-4ec6-b26e-c1a60d43c66f"
      },
      "source": [
        "for is_last in [False]:\n",
        "    for loss_str in loss_list:\n",
        "        config['loss'] = loss_str\n",
        "        for batch_size in batch_size_list:\n",
        "            config['batch_size'] = batch_size\n",
        "            test_generator = DataGenerator(all_x=X_test, \n",
        "                                data_index=np.arange(len(X_test)), \n",
        "                                config=config, shuffle=True\n",
        "                               )\n",
        "            test_data = test_generator.batch_generator_for_tfdata()\n",
        "            for is_batchnorm in is_batchnorm_list:\n",
        "                config['is_batchnorm'] = is_batchnorm \n",
        "                for activation_func in activation_list:\n",
        "                    config['activation'] = activation_func\n",
        "                    for conv_padding_str in conv_padding_list:\n",
        "                        config['conv']['padding'] = conv_padding_str\n",
        "                        for pool_padding_str in pool_padding_list:\n",
        "                            config['pool']['padding'] = pool_padding_str\n",
        "                            for pool_type in pool_type_list:\n",
        "                                config['pool']['type'] = pool_type\n",
        "                                for base_channel_num in base_channel_list:\n",
        "                                    config['conv']['base_channel_num'] = base_channel_num\n",
        "                                    for conv_comb in conv_comb_list:\n",
        "                                        config['conv']['conv_num'] = conv_comb\n",
        "                                        for fc_num in fc_list:\n",
        "                                            config['fc']['fc_num'] = fc_num\n",
        "                                            \n",
        "                                            for missing_value in missing_value_list:\n",
        "                                                config['missing_value'] = missing_value\n",
        "                                                for sample_weight_str in sample_weight_list:\n",
        "                                                    config['sample_weight'] = sample_weight_str\n",
        "\n",
        "                                                    all_pred_list = []\n",
        "                                                    for target in config['label_list']:\n",
        "                                                        config['output_label_list'] = [target]\n",
        "                                                        w = config['loss_weights'][target]\n",
        "\n",
        "                                                        base = BASE_MODEL_NAME\n",
        "\n",
        "                                                        base += '_missing-value_{}'.format(config['missing_value'])\n",
        "                                                        base += '_sample-weight_{}'.format(config['sample_weight'])\n",
        "\n",
        "                                                        base += '_split-method_{}'.format(str(config['num_fold'])+'fold')\n",
        "                                                        base += '_zscore_{}'.format(config['is_zscore'])\n",
        "\n",
        "                                                        base += '_loss_{}'.format(config['loss'].replace('_', '-'))\n",
        "                                                        base += '_basech_{}'.format(str(config['conv']['base_channel_num']).zfill(2))\n",
        "\n",
        "                                                        base += '_conv_{}'.format('-'.join(map(lambda x:str(x),config['conv']['conv_num'])))\n",
        "                                                        base += '_conv-pad_{}'.format(config['conv']['padding'])\n",
        "                                                        base += '_pool-type_{}'.format(config['pool']['type'])\n",
        "                                                        base += '_pool-pad_{}'.format(config['pool']['padding'])\n",
        "                                                        base += '_fc_{}'.format(fc_num)\n",
        "                                                        base += '_act_{}'.format(config['activation'])\n",
        "\n",
        "                                                        if config['is_dropout']:\n",
        "                                                            base += '_DO_'+str(config['dropout_rate']).replace('.', '')\n",
        "                                                        if config['is_batchnorm']:\n",
        "                                                            base += '_BN'+'_O'\n",
        "                                                        else:\n",
        "                                                            base += '_BN'+'_X'\n",
        "\n",
        "                                                        model_name = base\n",
        "\n",
        "                                                        print(model_name, 'Batch:', config['batch_size'])\n",
        "\n",
        "                                                        if config['loss'] == 'mse':\n",
        "                                                            loss_funcs = {'output_{}'.format(label):'mse' \n",
        "                                                                        for label in config['output_label_list']}\n",
        "                                                            loss_weights = {'output_{}'.format(label):1.0 \n",
        "                                                                        for label in config['output_label_list']}\n",
        "                                                            config['output_activation'] = 'linear'\n",
        "                                                        elif config['loss'] == 'mae':\n",
        "                                                            loss_funcs = {'output_{}'.format(label):'mae' \n",
        "                                                                        for label in config['output_label_list']}\n",
        "                                                            loss_weights = {'output_{}'.format(label):1.0 \n",
        "                                                                        for label in config['output_label_list']}\n",
        "                                                            config['output_activation'] = 'linear'\n",
        "                                                        else:\n",
        "                                                            loss_funcs = {'output_{}'.format(label):'mse' \n",
        "                                                                        for label in config['output_label_list']}\n",
        "                                                            loss_weights = {'output_{}'.format(label):1.0 \n",
        "                                                                        for label in config['output_label_list']}\n",
        "                                                            config['output_activation'] = 'linear'                                                 \n",
        "\n",
        "                                                        model_checkpoint_base = pth.join(model_base_path, 'checkpoint')\n",
        "\n",
        "                                                        analysis_base_path = pth.join(model_base_path, 'analysis')\n",
        "\n",
        "                                                        model_analysis_path = pth.join(analysis_base_path, model_name,\n",
        "                                                                                      'batch_{}'.format(str(config['batch_size']).zfill(3)))\n",
        "                                                        \n",
        "                                                        fold_pred_list = []    \n",
        "\n",
        "                                                        log_name = 'log.tsv' if not is_last else 'log_last.tsv'\n",
        "                                                        print(pth.join(model_analysis_path, log_name))\n",
        "                                                        with open(pth.join(model_analysis_path, log_name), 'w') as log_file:\n",
        "                                                            log_file.write('\\t'.join(['repeat_num', 'fold_num',\n",
        "                                                                                      'train_loss', 'train_mse', 'train_mae',\n",
        "                                                                                      'test_loss', 'test_mse', 'test_mae'])+'\\n')\n",
        "\n",
        "                                                            model_temp_path = pth.join(model_checkpoint_base, model_name, \n",
        "                                                                                   'batch_{}'.format(str(config['batch_size']).zfill(3)),\n",
        "                                                                                  str(config['num_repeat']).zfill(2)+'_repeat')\n",
        "                                                            repeat_num_list = [name for name in os.listdir(model_temp_path) if name.endswith('th_repeat')]\n",
        "                                                            for repeat_num_str in sorted(repeat_num_list):\n",
        "                                                                model_fold_temp_path = pth.join(model_temp_path, repeat_num_str, str(config['num_fold']).zfill(2)+'_fold')\n",
        "                                                                fold_num_list = [name for name in os.listdir(model_fold_temp_path) if name.endswith('th_fold')]\n",
        "                                                                for fold_num_str in sorted(fold_num_list):\n",
        "                                                                    print('Batch:', config['batch_size'])\n",
        "                                                                    print(model_name, repeat_num_str, fold_num_str)\n",
        "                                                                    log_file.write(repeat_num_str.replace('th_repeat', '')+'\\t')\n",
        "                                                                    log_file.write(fold_num_str.replace('th_fold', '')+'\\t')\n",
        "\n",
        "                                                                    model_path = pth.join(model_fold_temp_path, \n",
        "                                                                                          fold_num_str,\n",
        "                                                                                          '_'.join(config['output_label_list'])\n",
        "                                                                                         )\n",
        "                                                                    if not is_last:\n",
        "                                                                        model_chk_name = sorted(os.listdir(model_path))[-1]\n",
        "                                                                    else: \n",
        "                                                                        model_chk_name = '000_last.hdf5'\n",
        "\n",
        "                                                                    dependencies = {\n",
        "                                                                        'normalized_mae_loss': normalized_mae_loss,\n",
        "                                                                    }\n",
        "\n",
        "                                                                    model = load_model(pth.join(model_path, model_chk_name), custom_objects=dependencies)\n",
        "                                                        #             model.summary()\n",
        "\n",
        "                                                                    each_repeat_path = pth.join(model_analysis_path, str(config['num_repeat']).zfill(2)+'_repeat')\n",
        "                                                                    each_repeat_iterate_path = pth.join(each_repeat_path, repeat_num_str)\n",
        "                                                                    each_fold_path = pth.join(each_repeat_iterate_path, str(config['num_fold']).zfill(2)+'_fold')\n",
        "                                                                    each_fold_iterate_path = pth.join(each_fold_path, fold_num_str)\n",
        "                                                                    target_label_path = pth.join(each_fold_iterate_path, '_'.join(config['output_label_list']))\n",
        "                                                                    visualization_path = pth.join(target_label_path,'visualization')\n",
        "\n",
        "                                                                    each_str, each_data = 'test', test_data\n",
        "                                                                    print('===', each_str, 'evaluate', '===')\n",
        "\n",
        "            #                                                         pred = model.predict(each_data, steps=len(test_generator), verbose=1)\n",
        "                                                                    pred = model.predict(\n",
        "                                                                        each_data, \n",
        "                                                                        steps=len(test_generator),\n",
        "            #                                                             use_multiprocessing=True,\n",
        "            #                                                             workers=4,\n",
        "                                                                        verbose=1,\n",
        "                                                                    )\n",
        "\n",
        "                                                                    pred_array = np.array(pred).squeeze()\n",
        "\n",
        "                                                                    fold_pred_list.append(pred_array)\n",
        "\n",
        "                                                        all_pred_list.append(np.mean(fold_pred_list, axis=0))\n",
        "\n",
        "                                                    pred_array = np.array(all_pred_list).squeeze().T\n",
        "\n",
        "                                                    test_list = os.listdir(test_data_dir)\n",
        "                                                    test_list = list(map(lambda name: name.split('.')[0], test_list))\n",
        "\n",
        "                                                    with open(pth.join(submission_base, '{}.csv'.format(model_name)), 'w') as f:\n",
        "                                                        f.write('Id,Predicted\\n')\n",
        "                                                        for subject_id, each_pred_array in tqdm(zip(test_list, pred_array), total=len(test_list)):\n",
        "                                                            for each_label, each_value in zip(config['output_label_list'], each_pred_array):\n",
        "                                                                f.write('{}_{},{}\\n'.format(subject_id, each_label, each_value))\n",
        "\n",
        "                                                    K.clear_session()\n",
        "                                                    del(model)\n",
        "                                                    gc.collect()                        \n",
        "                                                    print()"
      ],
      "execution_count": null,
      "outputs": [
        {
          "output_type": "stream",
          "text": [
            "3D_CNN_regression_average_GICA_xception-custom-2_missing-value_exclude_split-method_5fold_zscore_True_loss_weighted-mse_basech_04_conv_None_conv-pad_same_pool-type_None_pool-pad_same_fc_0_act_relu_DO_05_BN_O Batch: 32\n",
            "/users/lww/data/trend_competition/model/analysis/3D_CNN_regression_average_GICA_xception-custom-2_missing-value_exclude_split-method_5fold_zscore_True_loss_weighted-mse_basech_04_conv_None_conv-pad_same_pool-type_None_pool-pad_same_fc_0_act_relu_DO_05_BN_O/batch_032/log.tsv\n",
            "Batch: 32\n",
            "3D_CNN_regression_average_GICA_xception-custom-2_missing-value_exclude_split-method_5fold_zscore_True_loss_weighted-mse_basech_04_conv_None_conv-pad_same_pool-type_None_pool-pad_same_fc_0_act_relu_DO_05_BN_O 01th_repeat\n",
            "=== test evaluate ===\n",
            "184/184 [==============================] - 10s 52ms/step\n",
            "Batch: 32\n",
            "3D_CNN_regression_average_GICA_xception-custom-2_missing-value_exclude_split-method_5fold_zscore_True_loss_weighted-mse_basech_04_conv_None_conv-pad_same_pool-type_None_pool-pad_same_fc_0_act_relu_DO_05_BN_O 01th_repeat\n",
            "=== test evaluate ===\n",
            "184/184 [==============================] - 10s 55ms/step\n",
            "Batch: 32\n",
            "3D_CNN_regression_average_GICA_xception-custom-2_missing-value_exclude_split-method_5fold_zscore_True_loss_weighted-mse_basech_04_conv_None_conv-pad_same_pool-type_None_pool-pad_same_fc_0_act_relu_DO_05_BN_O 01th_repeat\n",
            "=== test evaluate ===\n",
            "184/184 [==============================] - 10s 55ms/step\n",
            "Batch: 32\n",
            "3D_CNN_regression_average_GICA_xception-custom-2_missing-value_exclude_split-method_5fold_zscore_True_loss_weighted-mse_basech_04_conv_None_conv-pad_same_pool-type_None_pool-pad_same_fc_0_act_relu_DO_05_BN_O 01th_repeat\n",
            "=== test evaluate ===\n",
            "184/184 [==============================] - 10s 56ms/step\n",
            "Batch: 32\n",
            "3D_CNN_regression_average_GICA_xception-custom-2_missing-value_exclude_split-method_5fold_zscore_True_loss_weighted-mse_basech_04_conv_None_conv-pad_same_pool-type_None_pool-pad_same_fc_0_act_relu_DO_05_BN_O 01th_repeat\n",
            "=== test evaluate ===\n",
            "184/184 [==============================] - 10s 55ms/step\n"
          ],
          "name": "stdout"
        },
        {
          "output_type": "display_data",
          "data": {
            "application/vnd.jupyter.widget-view+json": {
              "model_id": "c79905eaa32d42fa81d8d7f4a964c0f1",
              "version_major": 2,
              "version_minor": 0
            },
            "text/plain": [
              "HBox(children=(FloatProgress(value=0.0, max=5877.0), HTML(value='')))"
            ]
          },
          "metadata": {
            "tags": []
          }
        },
        {
          "output_type": "stream",
          "text": [
            "\n",
            "\n",
            "3D_CNN_regression_average_GICA_xception-custom-2_missing-value_exclude_split-method_5fold_zscore_True_loss_weighted-mse_basech_08_conv_None_conv-pad_same_pool-type_None_pool-pad_same_fc_0_act_relu_DO_05_BN_O Batch: 32\n",
            "/users/lww/data/trend_competition/model/analysis/3D_CNN_regression_average_GICA_xception-custom-2_missing-value_exclude_split-method_5fold_zscore_True_loss_weighted-mse_basech_08_conv_None_conv-pad_same_pool-type_None_pool-pad_same_fc_0_act_relu_DO_05_BN_O/batch_032/log.tsv\n",
            "Batch: 32\n",
            "3D_CNN_regression_average_GICA_xception-custom-2_missing-value_exclude_split-method_5fold_zscore_True_loss_weighted-mse_basech_08_conv_None_conv-pad_same_pool-type_None_pool-pad_same_fc_0_act_relu_DO_05_BN_O 01th_repeat\n",
            "=== test evaluate ===\n",
            "184/184 [==============================] - 16s 85ms/step\n",
            "Batch: 32\n",
            "3D_CNN_regression_average_GICA_xception-custom-2_missing-value_exclude_split-method_5fold_zscore_True_loss_weighted-mse_basech_08_conv_None_conv-pad_same_pool-type_None_pool-pad_same_fc_0_act_relu_DO_05_BN_O 01th_repeat\n",
            "=== test evaluate ===\n",
            "184/184 [==============================] - 16s 86ms/step\n",
            "Batch: 32\n",
            "3D_CNN_regression_average_GICA_xception-custom-2_missing-value_exclude_split-method_5fold_zscore_True_loss_weighted-mse_basech_08_conv_None_conv-pad_same_pool-type_None_pool-pad_same_fc_0_act_relu_DO_05_BN_O 01th_repeat\n",
            "=== test evaluate ===\n",
            "184/184 [==============================] - 16s 86ms/step\n",
            "Batch: 32\n",
            "3D_CNN_regression_average_GICA_xception-custom-2_missing-value_exclude_split-method_5fold_zscore_True_loss_weighted-mse_basech_08_conv_None_conv-pad_same_pool-type_None_pool-pad_same_fc_0_act_relu_DO_05_BN_O 01th_repeat\n",
            "=== test evaluate ===\n",
            "184/184 [==============================] - 16s 87ms/step\n",
            "Batch: 32\n",
            "3D_CNN_regression_average_GICA_xception-custom-2_missing-value_exclude_split-method_5fold_zscore_True_loss_weighted-mse_basech_08_conv_None_conv-pad_same_pool-type_None_pool-pad_same_fc_0_act_relu_DO_05_BN_O 01th_repeat\n",
            "=== test evaluate ===\n",
            "184/184 [==============================] - 16s 88ms/step\n"
          ],
          "name": "stdout"
        },
        {
          "output_type": "display_data",
          "data": {
            "application/vnd.jupyter.widget-view+json": {
              "model_id": "bfb491e2ed254bc38cc29e605dc82193",
              "version_major": 2,
              "version_minor": 0
            },
            "text/plain": [
              "HBox(children=(FloatProgress(value=0.0, max=5877.0), HTML(value='')))"
            ]
          },
          "metadata": {
            "tags": []
          }
        },
        {
          "output_type": "stream",
          "text": [
            "\n",
            "\n",
            "3D_CNN_regression_average_GICA_xception-custom-2_missing-value_exclude_split-method_5fold_zscore_True_loss_weighted-mse_basech_04_conv_None_conv-pad_same_pool-type_avg_pool-pad_same_fc_0_act_relu_DO_05_BN_O Batch: 32\n",
            "/users/lww/data/trend_competition/model/analysis/3D_CNN_regression_average_GICA_xception-custom-2_missing-value_exclude_split-method_5fold_zscore_True_loss_weighted-mse_basech_04_conv_None_conv-pad_same_pool-type_avg_pool-pad_same_fc_0_act_relu_DO_05_BN_O/batch_032/log.tsv\n",
            "Batch: 32\n",
            "3D_CNN_regression_average_GICA_xception-custom-2_missing-value_exclude_split-method_5fold_zscore_True_loss_weighted-mse_basech_04_conv_None_conv-pad_same_pool-type_avg_pool-pad_same_fc_0_act_relu_DO_05_BN_O 01th_repeat\n",
            "=== test evaluate ===\n",
            "184/184 [==============================] - 10s 56ms/step\n",
            "Batch: 32\n",
            "3D_CNN_regression_average_GICA_xception-custom-2_missing-value_exclude_split-method_5fold_zscore_True_loss_weighted-mse_basech_04_conv_None_conv-pad_same_pool-type_avg_pool-pad_same_fc_0_act_relu_DO_05_BN_O 01th_repeat\n",
            "=== test evaluate ===\n",
            "184/184 [==============================] - 10s 53ms/step\n",
            "Batch: 32\n",
            "3D_CNN_regression_average_GICA_xception-custom-2_missing-value_exclude_split-method_5fold_zscore_True_loss_weighted-mse_basech_04_conv_None_conv-pad_same_pool-type_avg_pool-pad_same_fc_0_act_relu_DO_05_BN_O 01th_repeat\n",
            "=== test evaluate ===\n",
            "184/184 [==============================] - 10s 56ms/step\n",
            "Batch: 32\n",
            "3D_CNN_regression_average_GICA_xception-custom-2_missing-value_exclude_split-method_5fold_zscore_True_loss_weighted-mse_basech_04_conv_None_conv-pad_same_pool-type_avg_pool-pad_same_fc_0_act_relu_DO_05_BN_O 01th_repeat\n",
            "=== test evaluate ===\n",
            "184/184 [==============================] - 10s 56ms/step\n",
            "Batch: 32\n",
            "3D_CNN_regression_average_GICA_xception-custom-2_missing-value_exclude_split-method_5fold_zscore_True_loss_weighted-mse_basech_04_conv_None_conv-pad_same_pool-type_avg_pool-pad_same_fc_0_act_relu_DO_05_BN_O 01th_repeat\n",
            "=== test evaluate ===\n",
            "184/184 [==============================] - 10s 56ms/step\n"
          ],
          "name": "stdout"
        },
        {
          "output_type": "display_data",
          "data": {
            "application/vnd.jupyter.widget-view+json": {
              "model_id": "04354dc6cf2e45d2b43edda1b0569d27",
              "version_major": 2,
              "version_minor": 0
            },
            "text/plain": [
              "HBox(children=(FloatProgress(value=0.0, max=5877.0), HTML(value='')))"
            ]
          },
          "metadata": {
            "tags": []
          }
        },
        {
          "output_type": "stream",
          "text": [
            "\n",
            "\n",
            "3D_CNN_regression_average_GICA_xception-custom-2_missing-value_exclude_split-method_5fold_zscore_True_loss_weighted-mse_basech_08_conv_None_conv-pad_same_pool-type_avg_pool-pad_same_fc_0_act_relu_DO_05_BN_O Batch: 32\n",
            "/users/lww/data/trend_competition/model/analysis/3D_CNN_regression_average_GICA_xception-custom-2_missing-value_exclude_split-method_5fold_zscore_True_loss_weighted-mse_basech_08_conv_None_conv-pad_same_pool-type_avg_pool-pad_same_fc_0_act_relu_DO_05_BN_O/batch_032/log.tsv\n",
            "Batch: 32\n",
            "3D_CNN_regression_average_GICA_xception-custom-2_missing-value_exclude_split-method_5fold_zscore_True_loss_weighted-mse_basech_08_conv_None_conv-pad_same_pool-type_avg_pool-pad_same_fc_0_act_relu_DO_05_BN_O 01th_repeat\n",
            "=== test evaluate ===\n",
            "184/184 [==============================] - 16s 86ms/step\n",
            "Batch: 32\n",
            "3D_CNN_regression_average_GICA_xception-custom-2_missing-value_exclude_split-method_5fold_zscore_True_loss_weighted-mse_basech_08_conv_None_conv-pad_same_pool-type_avg_pool-pad_same_fc_0_act_relu_DO_05_BN_O 01th_repeat\n",
            "=== test evaluate ===\n",
            "184/184 [==============================] - 15s 84ms/step\n",
            "Batch: 32\n",
            "3D_CNN_regression_average_GICA_xception-custom-2_missing-value_exclude_split-method_5fold_zscore_True_loss_weighted-mse_basech_08_conv_None_conv-pad_same_pool-type_avg_pool-pad_same_fc_0_act_relu_DO_05_BN_O 01th_repeat\n",
            "=== test evaluate ===\n",
            "184/184 [==============================] - 16s 86ms/step\n",
            "Batch: 32\n",
            "3D_CNN_regression_average_GICA_xception-custom-2_missing-value_exclude_split-method_5fold_zscore_True_loss_weighted-mse_basech_08_conv_None_conv-pad_same_pool-type_avg_pool-pad_same_fc_0_act_relu_DO_05_BN_O 01th_repeat\n",
            "=== test evaluate ===\n",
            "184/184 [==============================] - 16s 85ms/step\n",
            "Batch: 32\n",
            "3D_CNN_regression_average_GICA_xception-custom-2_missing-value_exclude_split-method_5fold_zscore_True_loss_weighted-mse_basech_08_conv_None_conv-pad_same_pool-type_avg_pool-pad_same_fc_0_act_relu_DO_05_BN_O 01th_repeat\n",
            "=== test evaluate ===\n",
            "184/184 [==============================] - 16s 87ms/step\n"
          ],
          "name": "stdout"
        },
        {
          "output_type": "display_data",
          "data": {
            "application/vnd.jupyter.widget-view+json": {
              "model_id": "3698ac00bf7e44a9985095b4b72ff3c7",
              "version_major": 2,
              "version_minor": 0
            },
            "text/plain": [
              "HBox(children=(FloatProgress(value=0.0, max=5877.0), HTML(value='')))"
            ]
          },
          "metadata": {
            "tags": []
          }
        },
        {
          "output_type": "stream",
          "text": [
            "\n",
            "\n",
            "3D_CNN_regression_average_GICA_xception-custom-2_missing-value_exclude_split-method_5fold_zscore_True_loss_weighted-mse_basech_04_conv_None_conv-pad_same_pool-type_None_pool-pad_same_fc_0_act_relu_DO_05_BN_X Batch: 32\n",
            "/users/lww/data/trend_competition/model/analysis/3D_CNN_regression_average_GICA_xception-custom-2_missing-value_exclude_split-method_5fold_zscore_True_loss_weighted-mse_basech_04_conv_None_conv-pad_same_pool-type_None_pool-pad_same_fc_0_act_relu_DO_05_BN_X/batch_032/log.tsv\n",
            "Batch: 32\n",
            "3D_CNN_regression_average_GICA_xception-custom-2_missing-value_exclude_split-method_5fold_zscore_True_loss_weighted-mse_basech_04_conv_None_conv-pad_same_pool-type_None_pool-pad_same_fc_0_act_relu_DO_05_BN_X 01th_repeat\n",
            "=== test evaluate ===\n",
            "184/184 [==============================] - 8s 45ms/step\n",
            "Batch: 32\n",
            "3D_CNN_regression_average_GICA_xception-custom-2_missing-value_exclude_split-method_5fold_zscore_True_loss_weighted-mse_basech_04_conv_None_conv-pad_same_pool-type_None_pool-pad_same_fc_0_act_relu_DO_05_BN_X 01th_repeat\n",
            "=== test evaluate ===\n",
            "184/184 [==============================] - 8s 45ms/step\n",
            "Batch: 32\n",
            "3D_CNN_regression_average_GICA_xception-custom-2_missing-value_exclude_split-method_5fold_zscore_True_loss_weighted-mse_basech_04_conv_None_conv-pad_same_pool-type_None_pool-pad_same_fc_0_act_relu_DO_05_BN_X 01th_repeat\n",
            "=== test evaluate ===\n",
            "184/184 [==============================] - 8s 44ms/step\n",
            "Batch: 32\n",
            "3D_CNN_regression_average_GICA_xception-custom-2_missing-value_exclude_split-method_5fold_zscore_True_loss_weighted-mse_basech_04_conv_None_conv-pad_same_pool-type_None_pool-pad_same_fc_0_act_relu_DO_05_BN_X 01th_repeat\n",
            "=== test evaluate ===\n",
            "184/184 [==============================] - 9s 47ms/step\n",
            "Batch: 32\n",
            "3D_CNN_regression_average_GICA_xception-custom-2_missing-value_exclude_split-method_5fold_zscore_True_loss_weighted-mse_basech_04_conv_None_conv-pad_same_pool-type_None_pool-pad_same_fc_0_act_relu_DO_05_BN_X 01th_repeat\n",
            "=== test evaluate ===\n",
            "184/184 [==============================] - 8s 45ms/step\n"
          ],
          "name": "stdout"
        },
        {
          "output_type": "display_data",
          "data": {
            "application/vnd.jupyter.widget-view+json": {
              "model_id": "eb137f30b10649028d06d313da413eac",
              "version_major": 2,
              "version_minor": 0
            },
            "text/plain": [
              "HBox(children=(FloatProgress(value=0.0, max=5877.0), HTML(value='')))"
            ]
          },
          "metadata": {
            "tags": []
          }
        },
        {
          "output_type": "stream",
          "text": [
            "\n",
            "\n",
            "3D_CNN_regression_average_GICA_xception-custom-2_missing-value_exclude_split-method_5fold_zscore_True_loss_weighted-mse_basech_08_conv_None_conv-pad_same_pool-type_None_pool-pad_same_fc_0_act_relu_DO_05_BN_X Batch: 32\n",
            "/users/lww/data/trend_competition/model/analysis/3D_CNN_regression_average_GICA_xception-custom-2_missing-value_exclude_split-method_5fold_zscore_True_loss_weighted-mse_basech_08_conv_None_conv-pad_same_pool-type_None_pool-pad_same_fc_0_act_relu_DO_05_BN_X/batch_032/log.tsv\n",
            "Batch: 32\n",
            "3D_CNN_regression_average_GICA_xception-custom-2_missing-value_exclude_split-method_5fold_zscore_True_loss_weighted-mse_basech_08_conv_None_conv-pad_same_pool-type_None_pool-pad_same_fc_0_act_relu_DO_05_BN_X 01th_repeat\n",
            "=== test evaluate ===\n",
            "184/184 [==============================] - 14s 76ms/step\n",
            "Batch: 32\n",
            "3D_CNN_regression_average_GICA_xception-custom-2_missing-value_exclude_split-method_5fold_zscore_True_loss_weighted-mse_basech_08_conv_None_conv-pad_same_pool-type_None_pool-pad_same_fc_0_act_relu_DO_05_BN_X 01th_repeat\n",
            "=== test evaluate ===\n",
            "184/184 [==============================] - 14s 75ms/step\n",
            "Batch: 32\n",
            "3D_CNN_regression_average_GICA_xception-custom-2_missing-value_exclude_split-method_5fold_zscore_True_loss_weighted-mse_basech_08_conv_None_conv-pad_same_pool-type_None_pool-pad_same_fc_0_act_relu_DO_05_BN_X 01th_repeat\n",
            "=== test evaluate ===\n",
            "184/184 [==============================] - 14s 75ms/step\n",
            "Batch: 32\n",
            "3D_CNN_regression_average_GICA_xception-custom-2_missing-value_exclude_split-method_5fold_zscore_True_loss_weighted-mse_basech_08_conv_None_conv-pad_same_pool-type_None_pool-pad_same_fc_0_act_relu_DO_05_BN_X 01th_repeat\n",
            "=== test evaluate ===\n",
            "184/184 [==============================] - 14s 75ms/step\n",
            "Batch: 32\n",
            "3D_CNN_regression_average_GICA_xception-custom-2_missing-value_exclude_split-method_5fold_zscore_True_loss_weighted-mse_basech_08_conv_None_conv-pad_same_pool-type_None_pool-pad_same_fc_0_act_relu_DO_05_BN_X 01th_repeat\n",
            "=== test evaluate ===\n",
            "184/184 [==============================] - 14s 76ms/step\n"
          ],
          "name": "stdout"
        },
        {
          "output_type": "display_data",
          "data": {
            "application/vnd.jupyter.widget-view+json": {
              "model_id": "d409f595f4704326adbfef2f216c90e6",
              "version_major": 2,
              "version_minor": 0
            },
            "text/plain": [
              "HBox(children=(FloatProgress(value=0.0, max=5877.0), HTML(value='')))"
            ]
          },
          "metadata": {
            "tags": []
          }
        },
        {
          "output_type": "stream",
          "text": [
            "\n",
            "\n",
            "3D_CNN_regression_average_GICA_xception-custom-2_missing-value_exclude_split-method_5fold_zscore_True_loss_weighted-mse_basech_04_conv_None_conv-pad_same_pool-type_avg_pool-pad_same_fc_0_act_relu_DO_05_BN_X Batch: 32\n",
            "/users/lww/data/trend_competition/model/analysis/3D_CNN_regression_average_GICA_xception-custom-2_missing-value_exclude_split-method_5fold_zscore_True_loss_weighted-mse_basech_04_conv_None_conv-pad_same_pool-type_avg_pool-pad_same_fc_0_act_relu_DO_05_BN_X/batch_032/log.tsv\n",
            "Batch: 32\n",
            "3D_CNN_regression_average_GICA_xception-custom-2_missing-value_exclude_split-method_5fold_zscore_True_loss_weighted-mse_basech_04_conv_None_conv-pad_same_pool-type_avg_pool-pad_same_fc_0_act_relu_DO_05_BN_X 01th_repeat\n",
            "=== test evaluate ===\n",
            "184/184 [==============================] - 9s 47ms/step\n",
            "Batch: 32\n",
            "3D_CNN_regression_average_GICA_xception-custom-2_missing-value_exclude_split-method_5fold_zscore_True_loss_weighted-mse_basech_04_conv_None_conv-pad_same_pool-type_avg_pool-pad_same_fc_0_act_relu_DO_05_BN_X 01th_repeat\n",
            "=== test evaluate ===\n",
            "184/184 [==============================] - 8s 45ms/step\n",
            "Batch: 32\n",
            "3D_CNN_regression_average_GICA_xception-custom-2_missing-value_exclude_split-method_5fold_zscore_True_loss_weighted-mse_basech_04_conv_None_conv-pad_same_pool-type_avg_pool-pad_same_fc_0_act_relu_DO_05_BN_X 01th_repeat\n",
            "=== test evaluate ===\n",
            "184/184 [==============================] - 8s 44ms/step\n",
            "Batch: 32\n",
            "3D_CNN_regression_average_GICA_xception-custom-2_missing-value_exclude_split-method_5fold_zscore_True_loss_weighted-mse_basech_04_conv_None_conv-pad_same_pool-type_avg_pool-pad_same_fc_0_act_relu_DO_05_BN_X 01th_repeat\n",
            "=== test evaluate ===\n",
            "184/184 [==============================] - 8s 46ms/step\n",
            "Batch: 32\n",
            "3D_CNN_regression_average_GICA_xception-custom-2_missing-value_exclude_split-method_5fold_zscore_True_loss_weighted-mse_basech_04_conv_None_conv-pad_same_pool-type_avg_pool-pad_same_fc_0_act_relu_DO_05_BN_X 01th_repeat\n",
            "=== test evaluate ===\n",
            "184/184 [==============================] - 8s 44ms/step\n"
          ],
          "name": "stdout"
        },
        {
          "output_type": "display_data",
          "data": {
            "application/vnd.jupyter.widget-view+json": {
              "model_id": "5280870849194b5dbded3d9c3626d281",
              "version_major": 2,
              "version_minor": 0
            },
            "text/plain": [
              "HBox(children=(FloatProgress(value=0.0, max=5877.0), HTML(value='')))"
            ]
          },
          "metadata": {
            "tags": []
          }
        },
        {
          "output_type": "stream",
          "text": [
            "\n",
            "\n",
            "3D_CNN_regression_average_GICA_xception-custom-2_missing-value_exclude_split-method_5fold_zscore_True_loss_weighted-mse_basech_08_conv_None_conv-pad_same_pool-type_avg_pool-pad_same_fc_0_act_relu_DO_05_BN_X Batch: 32\n",
            "/users/lww/data/trend_competition/model/analysis/3D_CNN_regression_average_GICA_xception-custom-2_missing-value_exclude_split-method_5fold_zscore_True_loss_weighted-mse_basech_08_conv_None_conv-pad_same_pool-type_avg_pool-pad_same_fc_0_act_relu_DO_05_BN_X/batch_032/log.tsv\n",
            "Batch: 32\n",
            "3D_CNN_regression_average_GICA_xception-custom-2_missing-value_exclude_split-method_5fold_zscore_True_loss_weighted-mse_basech_08_conv_None_conv-pad_same_pool-type_avg_pool-pad_same_fc_0_act_relu_DO_05_BN_X 01th_repeat\n",
            "=== test evaluate ===\n",
            "184/184 [==============================] - 14s 74ms/step\n",
            "Batch: 32\n",
            "3D_CNN_regression_average_GICA_xception-custom-2_missing-value_exclude_split-method_5fold_zscore_True_loss_weighted-mse_basech_08_conv_None_conv-pad_same_pool-type_avg_pool-pad_same_fc_0_act_relu_DO_05_BN_X 01th_repeat\n",
            "=== test evaluate ===\n",
            "184/184 [==============================] - 14s 74ms/step\n",
            "Batch: 32\n",
            "3D_CNN_regression_average_GICA_xception-custom-2_missing-value_exclude_split-method_5fold_zscore_True_loss_weighted-mse_basech_08_conv_None_conv-pad_same_pool-type_avg_pool-pad_same_fc_0_act_relu_DO_05_BN_X 01th_repeat\n",
            "=== test evaluate ===\n",
            "184/184 [==============================] - 14s 77ms/step\n",
            "Batch: 32\n",
            "3D_CNN_regression_average_GICA_xception-custom-2_missing-value_exclude_split-method_5fold_zscore_True_loss_weighted-mse_basech_08_conv_None_conv-pad_same_pool-type_avg_pool-pad_same_fc_0_act_relu_DO_05_BN_X 01th_repeat\n",
            "=== test evaluate ===\n",
            "184/184 [==============================] - 14s 75ms/step\n",
            "Batch: 32\n",
            "3D_CNN_regression_average_GICA_xception-custom-2_missing-value_exclude_split-method_5fold_zscore_True_loss_weighted-mse_basech_08_conv_None_conv-pad_same_pool-type_avg_pool-pad_same_fc_0_act_relu_DO_05_BN_X 01th_repeat\n",
            "=== test evaluate ===\n",
            "184/184 [==============================] - 14s 74ms/step\n"
          ],
          "name": "stdout"
        },
        {
          "output_type": "display_data",
          "data": {
            "application/vnd.jupyter.widget-view+json": {
              "model_id": "d137c742e814417485cefbb3d22b0121",
              "version_major": 2,
              "version_minor": 0
            },
            "text/plain": [
              "HBox(children=(FloatProgress(value=0.0, max=5877.0), HTML(value='')))"
            ]
          },
          "metadata": {
            "tags": []
          }
        },
        {
          "output_type": "stream",
          "text": [
            "\n",
            "\n"
          ],
          "name": "stdout"
        }
      ]
    },
    {
      "cell_type": "code",
      "metadata": {
        "id": "dWjiAd9NbQrW"
      },
      "source": [
        ""
      ],
      "execution_count": null,
      "outputs": []
    },
    {
      "cell_type": "code",
      "metadata": {
        "id": "hbxsgVt9bQrX"
      },
      "source": [
        "from IPython.display import display_html\n",
        "def restartkernel():\n",
        "    display_html(\"<script>Jupyter.notebook.kernel.restart()</script>\",raw=True)\n",
        "restartkernel()"
      ],
      "execution_count": null,
      "outputs": []
    },
    {
      "cell_type": "code",
      "metadata": {
        "id": "nxl_u9elbQrX"
      },
      "source": [
        ""
      ],
      "execution_count": null,
      "outputs": []
    }
  ]
}